{
 "cells": [
  {
   "cell_type": "markdown",
   "id": "0fc1ccf2",
   "metadata": {},
   "source": [
    "<font color=black face=\"algerian\" size=\"10px\"> Bank Credit Appraisal EDA </font><br>\n",
    "<i><font color=orange face=\"algerian\" size=\"5px\">-by Vivek Kumar</font></i>"
   ]
  },
  {
   "cell_type": "markdown",
   "id": "7d503428",
   "metadata": {},
   "source": [
    "<h2> About variables used in the below analysis:</h3></h2>\n",
    "<ul>\n",
    "<li><h3>df_curr_application :</h3>Dataframe consisting columns from dataset- application_data.csv</li>\n",
    "<li><h3>df_curr_application2 :</h3>Dataframe consisting columns from dataset- application_data.csv with more than 50% missing value columns removed</li>\n",
    "<li><h3>df_curr_application3 :</h3>Dataframe consisting refined columns from dataset- application_data.csv</li>\n",
    "<li><h3>df_prev_application :</h3>Dataframe consisting columns from dataset- previous_application.csv</li>\n",
    "<li><h3>df_prev_application2 :</h3>Dataframe consisting columns from dataset- previous_application.csv with more than 50% missing value columns removed</li>\n",
    "    <li><h3>df_merged :</h3>Merged Dataframes df_curr_application and df_prev_application W.R.T. column \"SK_ID_CURR\" common to both Dataframe</li>\n",
    "<li><h3>missing50_in_curr :</h3>Dataframe consisting columns Dataframe df_curr_application with more than 50% missing value columns</li>\n",
    "<li><h3>missing50_in_prev :</h3>Dataframe consisting columns Dataframe df_prev_application with more than 50% missing value columns</li>\n",
    "    <li><h3>df_asset_detes :</h3>Dataframe consisting columns containing customer's asset details</li>\n",
    "<li><h3>df_contact_detes :</h3>Dataframe consisting columns containing customer's contact details</li>\n",
    "</ul>"
   ]
  },
  {
   "cell_type": "markdown",
   "id": "8fbec372",
   "metadata": {},
   "source": [
    "<h2>Importing all the required libraries</h2>\n",
    "<ul>\n",
    "<li><i>Matpotlib</i></li>\n",
    "<li><i>Pandas</i></li>\n",
    "<li><i>Seaborn</i></li>\n",
    "<li><i>Numpy</i></li>\n",
    "</ul>"
   ]
  },
  {
   "cell_type": "code",
   "execution_count": 1,
   "id": "01f7ce36-1de1-4021-8247-549b12be6b7e",
   "metadata": {},
   "outputs": [],
   "source": [
    "import matplotlib.pyplot as plt \n",
    "import pandas as pd\n",
    "import seaborn as sns\n",
    "import numpy as np\n",
    "%matplotlib inline\n",
    "import warnings\n",
    "warnings.filterwarnings(\"ignore\")"
   ]
  },
  {
   "cell_type": "markdown",
   "id": "c5e0b557",
   "metadata": {},
   "source": [
    "<h2>\n",
    "Reading both datasets\n",
    "</h2>"
   ]
  },
  {
   "cell_type": "code",
   "execution_count": 2,
   "id": "cfabba33-143a-4060-a156-65239fc0f35e",
   "metadata": {},
   "outputs": [],
   "source": [
    "df_curr_application = pd.read_csv(\"datasets/application_data.csv\")\n",
    "df_prev_application = pd.read_csv(\"datasets/previous_application.csv\")"
   ]
  },
  {
   "cell_type": "markdown",
   "id": "aef5b7d9",
   "metadata": {},
   "source": [
    "<h2>\n",
    "Printing<tt> df_curr_application </tt>datasets\n",
    "</h2>"
   ]
  },
  {
   "cell_type": "code",
   "execution_count": 3,
   "id": "79d3c60c-9854-48b8-8974-cfa079d6c8d8",
   "metadata": {},
   "outputs": [
    {
     "data": {
      "text/html": [
       "<div>\n",
       "<style scoped>\n",
       "    .dataframe tbody tr th:only-of-type {\n",
       "        vertical-align: middle;\n",
       "    }\n",
       "\n",
       "    .dataframe tbody tr th {\n",
       "        vertical-align: top;\n",
       "    }\n",
       "\n",
       "    .dataframe thead th {\n",
       "        text-align: right;\n",
       "    }\n",
       "</style>\n",
       "<table border=\"1\" class=\"dataframe\">\n",
       "  <thead>\n",
       "    <tr style=\"text-align: right;\">\n",
       "      <th></th>\n",
       "      <th>SK_ID_CURR</th>\n",
       "      <th>TARGET</th>\n",
       "      <th>NAME_CONTRACT_TYPE</th>\n",
       "      <th>CODE_GENDER</th>\n",
       "      <th>FLAG_OWN_CAR</th>\n",
       "      <th>FLAG_OWN_REALTY</th>\n",
       "      <th>CNT_CHILDREN</th>\n",
       "      <th>AMT_INCOME_TOTAL</th>\n",
       "      <th>AMT_CREDIT</th>\n",
       "      <th>AMT_ANNUITY</th>\n",
       "      <th>...</th>\n",
       "      <th>FLAG_DOCUMENT_18</th>\n",
       "      <th>FLAG_DOCUMENT_19</th>\n",
       "      <th>FLAG_DOCUMENT_20</th>\n",
       "      <th>FLAG_DOCUMENT_21</th>\n",
       "      <th>AMT_REQ_CREDIT_BUREAU_HOUR</th>\n",
       "      <th>AMT_REQ_CREDIT_BUREAU_DAY</th>\n",
       "      <th>AMT_REQ_CREDIT_BUREAU_WEEK</th>\n",
       "      <th>AMT_REQ_CREDIT_BUREAU_MON</th>\n",
       "      <th>AMT_REQ_CREDIT_BUREAU_QRT</th>\n",
       "      <th>AMT_REQ_CREDIT_BUREAU_YEAR</th>\n",
       "    </tr>\n",
       "  </thead>\n",
       "  <tbody>\n",
       "    <tr>\n",
       "      <th>0</th>\n",
       "      <td>100002</td>\n",
       "      <td>1</td>\n",
       "      <td>Cash loans</td>\n",
       "      <td>M</td>\n",
       "      <td>N</td>\n",
       "      <td>Y</td>\n",
       "      <td>0</td>\n",
       "      <td>202500.0</td>\n",
       "      <td>406597.5</td>\n",
       "      <td>24700.5</td>\n",
       "      <td>...</td>\n",
       "      <td>0</td>\n",
       "      <td>0</td>\n",
       "      <td>0</td>\n",
       "      <td>0</td>\n",
       "      <td>0.0</td>\n",
       "      <td>0.0</td>\n",
       "      <td>0.0</td>\n",
       "      <td>0.0</td>\n",
       "      <td>0.0</td>\n",
       "      <td>1.0</td>\n",
       "    </tr>\n",
       "    <tr>\n",
       "      <th>1</th>\n",
       "      <td>100003</td>\n",
       "      <td>0</td>\n",
       "      <td>Cash loans</td>\n",
       "      <td>F</td>\n",
       "      <td>N</td>\n",
       "      <td>N</td>\n",
       "      <td>0</td>\n",
       "      <td>270000.0</td>\n",
       "      <td>1293502.5</td>\n",
       "      <td>35698.5</td>\n",
       "      <td>...</td>\n",
       "      <td>0</td>\n",
       "      <td>0</td>\n",
       "      <td>0</td>\n",
       "      <td>0</td>\n",
       "      <td>0.0</td>\n",
       "      <td>0.0</td>\n",
       "      <td>0.0</td>\n",
       "      <td>0.0</td>\n",
       "      <td>0.0</td>\n",
       "      <td>0.0</td>\n",
       "    </tr>\n",
       "    <tr>\n",
       "      <th>2</th>\n",
       "      <td>100004</td>\n",
       "      <td>0</td>\n",
       "      <td>Revolving loans</td>\n",
       "      <td>M</td>\n",
       "      <td>Y</td>\n",
       "      <td>Y</td>\n",
       "      <td>0</td>\n",
       "      <td>67500.0</td>\n",
       "      <td>135000.0</td>\n",
       "      <td>6750.0</td>\n",
       "      <td>...</td>\n",
       "      <td>0</td>\n",
       "      <td>0</td>\n",
       "      <td>0</td>\n",
       "      <td>0</td>\n",
       "      <td>0.0</td>\n",
       "      <td>0.0</td>\n",
       "      <td>0.0</td>\n",
       "      <td>0.0</td>\n",
       "      <td>0.0</td>\n",
       "      <td>0.0</td>\n",
       "    </tr>\n",
       "    <tr>\n",
       "      <th>3</th>\n",
       "      <td>100006</td>\n",
       "      <td>0</td>\n",
       "      <td>Cash loans</td>\n",
       "      <td>F</td>\n",
       "      <td>N</td>\n",
       "      <td>Y</td>\n",
       "      <td>0</td>\n",
       "      <td>135000.0</td>\n",
       "      <td>312682.5</td>\n",
       "      <td>29686.5</td>\n",
       "      <td>...</td>\n",
       "      <td>0</td>\n",
       "      <td>0</td>\n",
       "      <td>0</td>\n",
       "      <td>0</td>\n",
       "      <td>NaN</td>\n",
       "      <td>NaN</td>\n",
       "      <td>NaN</td>\n",
       "      <td>NaN</td>\n",
       "      <td>NaN</td>\n",
       "      <td>NaN</td>\n",
       "    </tr>\n",
       "    <tr>\n",
       "      <th>4</th>\n",
       "      <td>100007</td>\n",
       "      <td>0</td>\n",
       "      <td>Cash loans</td>\n",
       "      <td>M</td>\n",
       "      <td>N</td>\n",
       "      <td>Y</td>\n",
       "      <td>0</td>\n",
       "      <td>121500.0</td>\n",
       "      <td>513000.0</td>\n",
       "      <td>21865.5</td>\n",
       "      <td>...</td>\n",
       "      <td>0</td>\n",
       "      <td>0</td>\n",
       "      <td>0</td>\n",
       "      <td>0</td>\n",
       "      <td>0.0</td>\n",
       "      <td>0.0</td>\n",
       "      <td>0.0</td>\n",
       "      <td>0.0</td>\n",
       "      <td>0.0</td>\n",
       "      <td>0.0</td>\n",
       "    </tr>\n",
       "  </tbody>\n",
       "</table>\n",
       "<p>5 rows × 122 columns</p>\n",
       "</div>"
      ],
      "text/plain": [
       "   SK_ID_CURR  TARGET NAME_CONTRACT_TYPE CODE_GENDER FLAG_OWN_CAR  \\\n",
       "0      100002       1         Cash loans           M            N   \n",
       "1      100003       0         Cash loans           F            N   \n",
       "2      100004       0    Revolving loans           M            Y   \n",
       "3      100006       0         Cash loans           F            N   \n",
       "4      100007       0         Cash loans           M            N   \n",
       "\n",
       "  FLAG_OWN_REALTY  CNT_CHILDREN  AMT_INCOME_TOTAL  AMT_CREDIT  AMT_ANNUITY  \\\n",
       "0               Y             0          202500.0    406597.5      24700.5   \n",
       "1               N             0          270000.0   1293502.5      35698.5   \n",
       "2               Y             0           67500.0    135000.0       6750.0   \n",
       "3               Y             0          135000.0    312682.5      29686.5   \n",
       "4               Y             0          121500.0    513000.0      21865.5   \n",
       "\n",
       "   ...  FLAG_DOCUMENT_18 FLAG_DOCUMENT_19 FLAG_DOCUMENT_20 FLAG_DOCUMENT_21  \\\n",
       "0  ...                 0                0                0                0   \n",
       "1  ...                 0                0                0                0   \n",
       "2  ...                 0                0                0                0   \n",
       "3  ...                 0                0                0                0   \n",
       "4  ...                 0                0                0                0   \n",
       "\n",
       "  AMT_REQ_CREDIT_BUREAU_HOUR AMT_REQ_CREDIT_BUREAU_DAY  \\\n",
       "0                        0.0                       0.0   \n",
       "1                        0.0                       0.0   \n",
       "2                        0.0                       0.0   \n",
       "3                        NaN                       NaN   \n",
       "4                        0.0                       0.0   \n",
       "\n",
       "   AMT_REQ_CREDIT_BUREAU_WEEK  AMT_REQ_CREDIT_BUREAU_MON  \\\n",
       "0                         0.0                        0.0   \n",
       "1                         0.0                        0.0   \n",
       "2                         0.0                        0.0   \n",
       "3                         NaN                        NaN   \n",
       "4                         0.0                        0.0   \n",
       "\n",
       "   AMT_REQ_CREDIT_BUREAU_QRT  AMT_REQ_CREDIT_BUREAU_YEAR  \n",
       "0                        0.0                         1.0  \n",
       "1                        0.0                         0.0  \n",
       "2                        0.0                         0.0  \n",
       "3                        NaN                         NaN  \n",
       "4                        0.0                         0.0  \n",
       "\n",
       "[5 rows x 122 columns]"
      ]
     },
     "execution_count": 3,
     "metadata": {},
     "output_type": "execute_result"
    }
   ],
   "source": [
    "df_curr_application.head()"
   ]
  },
  {
   "cell_type": "markdown",
   "id": "345277d4",
   "metadata": {},
   "source": [
    "<h2>Printing<tt> df_prev_application </tt>dataset</h2>"
   ]
  },
  {
   "cell_type": "code",
   "execution_count": 4,
   "id": "536ecc52",
   "metadata": {
    "scrolled": true
   },
   "outputs": [
    {
     "data": {
      "text/html": [
       "<div>\n",
       "<style scoped>\n",
       "    .dataframe tbody tr th:only-of-type {\n",
       "        vertical-align: middle;\n",
       "    }\n",
       "\n",
       "    .dataframe tbody tr th {\n",
       "        vertical-align: top;\n",
       "    }\n",
       "\n",
       "    .dataframe thead th {\n",
       "        text-align: right;\n",
       "    }\n",
       "</style>\n",
       "<table border=\"1\" class=\"dataframe\">\n",
       "  <thead>\n",
       "    <tr style=\"text-align: right;\">\n",
       "      <th></th>\n",
       "      <th>SK_ID_PREV</th>\n",
       "      <th>SK_ID_CURR</th>\n",
       "      <th>NAME_CONTRACT_TYPE</th>\n",
       "      <th>AMT_ANNUITY</th>\n",
       "      <th>AMT_APPLICATION</th>\n",
       "      <th>AMT_CREDIT</th>\n",
       "      <th>AMT_DOWN_PAYMENT</th>\n",
       "      <th>AMT_GOODS_PRICE</th>\n",
       "      <th>WEEKDAY_APPR_PROCESS_START</th>\n",
       "      <th>HOUR_APPR_PROCESS_START</th>\n",
       "      <th>...</th>\n",
       "      <th>NAME_SELLER_INDUSTRY</th>\n",
       "      <th>CNT_PAYMENT</th>\n",
       "      <th>NAME_YIELD_GROUP</th>\n",
       "      <th>PRODUCT_COMBINATION</th>\n",
       "      <th>DAYS_FIRST_DRAWING</th>\n",
       "      <th>DAYS_FIRST_DUE</th>\n",
       "      <th>DAYS_LAST_DUE_1ST_VERSION</th>\n",
       "      <th>DAYS_LAST_DUE</th>\n",
       "      <th>DAYS_TERMINATION</th>\n",
       "      <th>NFLAG_INSURED_ON_APPROVAL</th>\n",
       "    </tr>\n",
       "  </thead>\n",
       "  <tbody>\n",
       "    <tr>\n",
       "      <th>0</th>\n",
       "      <td>2030495</td>\n",
       "      <td>271877</td>\n",
       "      <td>Consumer loans</td>\n",
       "      <td>1730.430</td>\n",
       "      <td>17145.0</td>\n",
       "      <td>17145.0</td>\n",
       "      <td>0.0</td>\n",
       "      <td>17145.0</td>\n",
       "      <td>SATURDAY</td>\n",
       "      <td>15</td>\n",
       "      <td>...</td>\n",
       "      <td>Connectivity</td>\n",
       "      <td>12.0</td>\n",
       "      <td>middle</td>\n",
       "      <td>POS mobile with interest</td>\n",
       "      <td>365243.0</td>\n",
       "      <td>-42.0</td>\n",
       "      <td>300.0</td>\n",
       "      <td>-42.0</td>\n",
       "      <td>-37.0</td>\n",
       "      <td>0.0</td>\n",
       "    </tr>\n",
       "    <tr>\n",
       "      <th>1</th>\n",
       "      <td>2802425</td>\n",
       "      <td>108129</td>\n",
       "      <td>Cash loans</td>\n",
       "      <td>25188.615</td>\n",
       "      <td>607500.0</td>\n",
       "      <td>679671.0</td>\n",
       "      <td>NaN</td>\n",
       "      <td>607500.0</td>\n",
       "      <td>THURSDAY</td>\n",
       "      <td>11</td>\n",
       "      <td>...</td>\n",
       "      <td>XNA</td>\n",
       "      <td>36.0</td>\n",
       "      <td>low_action</td>\n",
       "      <td>Cash X-Sell: low</td>\n",
       "      <td>365243.0</td>\n",
       "      <td>-134.0</td>\n",
       "      <td>916.0</td>\n",
       "      <td>365243.0</td>\n",
       "      <td>365243.0</td>\n",
       "      <td>1.0</td>\n",
       "    </tr>\n",
       "    <tr>\n",
       "      <th>2</th>\n",
       "      <td>2523466</td>\n",
       "      <td>122040</td>\n",
       "      <td>Cash loans</td>\n",
       "      <td>15060.735</td>\n",
       "      <td>112500.0</td>\n",
       "      <td>136444.5</td>\n",
       "      <td>NaN</td>\n",
       "      <td>112500.0</td>\n",
       "      <td>TUESDAY</td>\n",
       "      <td>11</td>\n",
       "      <td>...</td>\n",
       "      <td>XNA</td>\n",
       "      <td>12.0</td>\n",
       "      <td>high</td>\n",
       "      <td>Cash X-Sell: high</td>\n",
       "      <td>365243.0</td>\n",
       "      <td>-271.0</td>\n",
       "      <td>59.0</td>\n",
       "      <td>365243.0</td>\n",
       "      <td>365243.0</td>\n",
       "      <td>1.0</td>\n",
       "    </tr>\n",
       "    <tr>\n",
       "      <th>3</th>\n",
       "      <td>2819243</td>\n",
       "      <td>176158</td>\n",
       "      <td>Cash loans</td>\n",
       "      <td>47041.335</td>\n",
       "      <td>450000.0</td>\n",
       "      <td>470790.0</td>\n",
       "      <td>NaN</td>\n",
       "      <td>450000.0</td>\n",
       "      <td>MONDAY</td>\n",
       "      <td>7</td>\n",
       "      <td>...</td>\n",
       "      <td>XNA</td>\n",
       "      <td>12.0</td>\n",
       "      <td>middle</td>\n",
       "      <td>Cash X-Sell: middle</td>\n",
       "      <td>365243.0</td>\n",
       "      <td>-482.0</td>\n",
       "      <td>-152.0</td>\n",
       "      <td>-182.0</td>\n",
       "      <td>-177.0</td>\n",
       "      <td>1.0</td>\n",
       "    </tr>\n",
       "    <tr>\n",
       "      <th>4</th>\n",
       "      <td>1784265</td>\n",
       "      <td>202054</td>\n",
       "      <td>Cash loans</td>\n",
       "      <td>31924.395</td>\n",
       "      <td>337500.0</td>\n",
       "      <td>404055.0</td>\n",
       "      <td>NaN</td>\n",
       "      <td>337500.0</td>\n",
       "      <td>THURSDAY</td>\n",
       "      <td>9</td>\n",
       "      <td>...</td>\n",
       "      <td>XNA</td>\n",
       "      <td>24.0</td>\n",
       "      <td>high</td>\n",
       "      <td>Cash Street: high</td>\n",
       "      <td>NaN</td>\n",
       "      <td>NaN</td>\n",
       "      <td>NaN</td>\n",
       "      <td>NaN</td>\n",
       "      <td>NaN</td>\n",
       "      <td>NaN</td>\n",
       "    </tr>\n",
       "  </tbody>\n",
       "</table>\n",
       "<p>5 rows × 37 columns</p>\n",
       "</div>"
      ],
      "text/plain": [
       "   SK_ID_PREV  SK_ID_CURR NAME_CONTRACT_TYPE  AMT_ANNUITY  AMT_APPLICATION  \\\n",
       "0     2030495      271877     Consumer loans     1730.430          17145.0   \n",
       "1     2802425      108129         Cash loans    25188.615         607500.0   \n",
       "2     2523466      122040         Cash loans    15060.735         112500.0   \n",
       "3     2819243      176158         Cash loans    47041.335         450000.0   \n",
       "4     1784265      202054         Cash loans    31924.395         337500.0   \n",
       "\n",
       "   AMT_CREDIT  AMT_DOWN_PAYMENT  AMT_GOODS_PRICE WEEKDAY_APPR_PROCESS_START  \\\n",
       "0     17145.0               0.0          17145.0                   SATURDAY   \n",
       "1    679671.0               NaN         607500.0                   THURSDAY   \n",
       "2    136444.5               NaN         112500.0                    TUESDAY   \n",
       "3    470790.0               NaN         450000.0                     MONDAY   \n",
       "4    404055.0               NaN         337500.0                   THURSDAY   \n",
       "\n",
       "   HOUR_APPR_PROCESS_START  ... NAME_SELLER_INDUSTRY  CNT_PAYMENT  \\\n",
       "0                       15  ...         Connectivity         12.0   \n",
       "1                       11  ...                  XNA         36.0   \n",
       "2                       11  ...                  XNA         12.0   \n",
       "3                        7  ...                  XNA         12.0   \n",
       "4                        9  ...                  XNA         24.0   \n",
       "\n",
       "   NAME_YIELD_GROUP       PRODUCT_COMBINATION  DAYS_FIRST_DRAWING  \\\n",
       "0            middle  POS mobile with interest            365243.0   \n",
       "1        low_action          Cash X-Sell: low            365243.0   \n",
       "2              high         Cash X-Sell: high            365243.0   \n",
       "3            middle       Cash X-Sell: middle            365243.0   \n",
       "4              high         Cash Street: high                 NaN   \n",
       "\n",
       "  DAYS_FIRST_DUE DAYS_LAST_DUE_1ST_VERSION  DAYS_LAST_DUE DAYS_TERMINATION  \\\n",
       "0          -42.0                     300.0          -42.0            -37.0   \n",
       "1         -134.0                     916.0       365243.0         365243.0   \n",
       "2         -271.0                      59.0       365243.0         365243.0   \n",
       "3         -482.0                    -152.0         -182.0           -177.0   \n",
       "4            NaN                       NaN            NaN              NaN   \n",
       "\n",
       "  NFLAG_INSURED_ON_APPROVAL  \n",
       "0                       0.0  \n",
       "1                       1.0  \n",
       "2                       1.0  \n",
       "3                       1.0  \n",
       "4                       NaN  \n",
       "\n",
       "[5 rows x 37 columns]"
      ]
     },
     "execution_count": 4,
     "metadata": {},
     "output_type": "execute_result"
    }
   ],
   "source": [
    "df_prev_application.head()"
   ]
  },
  {
   "cell_type": "markdown",
   "id": "74a68472",
   "metadata": {},
   "source": [
    "<h2>\n",
    "Checking datatypes of colums in<tt> df_curr_application </tt>dataset\n",
    "</h2>"
   ]
  },
  {
   "cell_type": "code",
   "execution_count": 5,
   "id": "261a4760",
   "metadata": {},
   "outputs": [
    {
     "name": "stdout",
     "output_type": "stream",
     "text": [
      "<class 'pandas.core.frame.DataFrame'>\n",
      "RangeIndex: 307511 entries, 0 to 307510\n",
      "Data columns (total 122 columns):\n",
      " #    Column                        Dtype  \n",
      "---   ------                        -----  \n",
      " 0    SK_ID_CURR                    int64  \n",
      " 1    TARGET                        int64  \n",
      " 2    NAME_CONTRACT_TYPE            object \n",
      " 3    CODE_GENDER                   object \n",
      " 4    FLAG_OWN_CAR                  object \n",
      " 5    FLAG_OWN_REALTY               object \n",
      " 6    CNT_CHILDREN                  int64  \n",
      " 7    AMT_INCOME_TOTAL              float64\n",
      " 8    AMT_CREDIT                    float64\n",
      " 9    AMT_ANNUITY                   float64\n",
      " 10   AMT_GOODS_PRICE               float64\n",
      " 11   NAME_TYPE_SUITE               object \n",
      " 12   NAME_INCOME_TYPE              object \n",
      " 13   NAME_EDUCATION_TYPE           object \n",
      " 14   NAME_FAMILY_STATUS            object \n",
      " 15   NAME_HOUSING_TYPE             object \n",
      " 16   REGION_POPULATION_RELATIVE    float64\n",
      " 17   DAYS_BIRTH                    int64  \n",
      " 18   DAYS_EMPLOYED                 int64  \n",
      " 19   DAYS_REGISTRATION             float64\n",
      " 20   DAYS_ID_PUBLISH               int64  \n",
      " 21   OWN_CAR_AGE                   float64\n",
      " 22   FLAG_MOBIL                    int64  \n",
      " 23   FLAG_EMP_PHONE                int64  \n",
      " 24   FLAG_WORK_PHONE               int64  \n",
      " 25   FLAG_CONT_MOBILE              int64  \n",
      " 26   FLAG_PHONE                    int64  \n",
      " 27   FLAG_EMAIL                    int64  \n",
      " 28   OCCUPATION_TYPE               object \n",
      " 29   CNT_FAM_MEMBERS               float64\n",
      " 30   REGION_RATING_CLIENT          int64  \n",
      " 31   REGION_RATING_CLIENT_W_CITY   int64  \n",
      " 32   WEEKDAY_APPR_PROCESS_START    object \n",
      " 33   HOUR_APPR_PROCESS_START       int64  \n",
      " 34   REG_REGION_NOT_LIVE_REGION    int64  \n",
      " 35   REG_REGION_NOT_WORK_REGION    int64  \n",
      " 36   LIVE_REGION_NOT_WORK_REGION   int64  \n",
      " 37   REG_CITY_NOT_LIVE_CITY        int64  \n",
      " 38   REG_CITY_NOT_WORK_CITY        int64  \n",
      " 39   LIVE_CITY_NOT_WORK_CITY       int64  \n",
      " 40   ORGANIZATION_TYPE             object \n",
      " 41   EXT_SOURCE_1                  float64\n",
      " 42   EXT_SOURCE_2                  float64\n",
      " 43   EXT_SOURCE_3                  float64\n",
      " 44   APARTMENTS_AVG                float64\n",
      " 45   BASEMENTAREA_AVG              float64\n",
      " 46   YEARS_BEGINEXPLUATATION_AVG   float64\n",
      " 47   YEARS_BUILD_AVG               float64\n",
      " 48   COMMONAREA_AVG                float64\n",
      " 49   ELEVATORS_AVG                 float64\n",
      " 50   ENTRANCES_AVG                 float64\n",
      " 51   FLOORSMAX_AVG                 float64\n",
      " 52   FLOORSMIN_AVG                 float64\n",
      " 53   LANDAREA_AVG                  float64\n",
      " 54   LIVINGAPARTMENTS_AVG          float64\n",
      " 55   LIVINGAREA_AVG                float64\n",
      " 56   NONLIVINGAPARTMENTS_AVG       float64\n",
      " 57   NONLIVINGAREA_AVG             float64\n",
      " 58   APARTMENTS_MODE               float64\n",
      " 59   BASEMENTAREA_MODE             float64\n",
      " 60   YEARS_BEGINEXPLUATATION_MODE  float64\n",
      " 61   YEARS_BUILD_MODE              float64\n",
      " 62   COMMONAREA_MODE               float64\n",
      " 63   ELEVATORS_MODE                float64\n",
      " 64   ENTRANCES_MODE                float64\n",
      " 65   FLOORSMAX_MODE                float64\n",
      " 66   FLOORSMIN_MODE                float64\n",
      " 67   LANDAREA_MODE                 float64\n",
      " 68   LIVINGAPARTMENTS_MODE         float64\n",
      " 69   LIVINGAREA_MODE               float64\n",
      " 70   NONLIVINGAPARTMENTS_MODE      float64\n",
      " 71   NONLIVINGAREA_MODE            float64\n",
      " 72   APARTMENTS_MEDI               float64\n",
      " 73   BASEMENTAREA_MEDI             float64\n",
      " 74   YEARS_BEGINEXPLUATATION_MEDI  float64\n",
      " 75   YEARS_BUILD_MEDI              float64\n",
      " 76   COMMONAREA_MEDI               float64\n",
      " 77   ELEVATORS_MEDI                float64\n",
      " 78   ENTRANCES_MEDI                float64\n",
      " 79   FLOORSMAX_MEDI                float64\n",
      " 80   FLOORSMIN_MEDI                float64\n",
      " 81   LANDAREA_MEDI                 float64\n",
      " 82   LIVINGAPARTMENTS_MEDI         float64\n",
      " 83   LIVINGAREA_MEDI               float64\n",
      " 84   NONLIVINGAPARTMENTS_MEDI      float64\n",
      " 85   NONLIVINGAREA_MEDI            float64\n",
      " 86   FONDKAPREMONT_MODE            object \n",
      " 87   HOUSETYPE_MODE                object \n",
      " 88   TOTALAREA_MODE                float64\n",
      " 89   WALLSMATERIAL_MODE            object \n",
      " 90   EMERGENCYSTATE_MODE           object \n",
      " 91   OBS_30_CNT_SOCIAL_CIRCLE      float64\n",
      " 92   DEF_30_CNT_SOCIAL_CIRCLE      float64\n",
      " 93   OBS_60_CNT_SOCIAL_CIRCLE      float64\n",
      " 94   DEF_60_CNT_SOCIAL_CIRCLE      float64\n",
      " 95   DAYS_LAST_PHONE_CHANGE        float64\n",
      " 96   FLAG_DOCUMENT_2               int64  \n",
      " 97   FLAG_DOCUMENT_3               int64  \n",
      " 98   FLAG_DOCUMENT_4               int64  \n",
      " 99   FLAG_DOCUMENT_5               int64  \n",
      " 100  FLAG_DOCUMENT_6               int64  \n",
      " 101  FLAG_DOCUMENT_7               int64  \n",
      " 102  FLAG_DOCUMENT_8               int64  \n",
      " 103  FLAG_DOCUMENT_9               int64  \n",
      " 104  FLAG_DOCUMENT_10              int64  \n",
      " 105  FLAG_DOCUMENT_11              int64  \n",
      " 106  FLAG_DOCUMENT_12              int64  \n",
      " 107  FLAG_DOCUMENT_13              int64  \n",
      " 108  FLAG_DOCUMENT_14              int64  \n",
      " 109  FLAG_DOCUMENT_15              int64  \n",
      " 110  FLAG_DOCUMENT_16              int64  \n",
      " 111  FLAG_DOCUMENT_17              int64  \n",
      " 112  FLAG_DOCUMENT_18              int64  \n",
      " 113  FLAG_DOCUMENT_19              int64  \n",
      " 114  FLAG_DOCUMENT_20              int64  \n",
      " 115  FLAG_DOCUMENT_21              int64  \n",
      " 116  AMT_REQ_CREDIT_BUREAU_HOUR    float64\n",
      " 117  AMT_REQ_CREDIT_BUREAU_DAY     float64\n",
      " 118  AMT_REQ_CREDIT_BUREAU_WEEK    float64\n",
      " 119  AMT_REQ_CREDIT_BUREAU_MON     float64\n",
      " 120  AMT_REQ_CREDIT_BUREAU_QRT     float64\n",
      " 121  AMT_REQ_CREDIT_BUREAU_YEAR    float64\n",
      "dtypes: float64(65), int64(41), object(16)\n",
      "memory usage: 286.2+ MB\n"
     ]
    }
   ],
   "source": [
    "df_curr_application.info(-1)"
   ]
  },
  {
   "cell_type": "markdown",
   "id": "7c23e458",
   "metadata": {},
   "source": [
    "<h2>\n",
    "Converting df(<tt> df_curr_application </tt>)dtypes to best possible dtypes:\n",
    "</h2>"
   ]
  },
  {
   "cell_type": "code",
   "execution_count": 6,
   "id": "ad445977",
   "metadata": {},
   "outputs": [
    {
     "name": "stdout",
     "output_type": "stream",
     "text": [
      "<class 'pandas.core.frame.DataFrame'>\n",
      "RangeIndex: 307511 entries, 0 to 307510\n",
      "Data columns (total 122 columns):\n",
      " #    Column                        Dtype  \n",
      "---   ------                        -----  \n",
      " 0    SK_ID_CURR                    Int64  \n",
      " 1    TARGET                        Int64  \n",
      " 2    NAME_CONTRACT_TYPE            string \n",
      " 3    CODE_GENDER                   string \n",
      " 4    FLAG_OWN_CAR                  string \n",
      " 5    FLAG_OWN_REALTY               string \n",
      " 6    CNT_CHILDREN                  Int64  \n",
      " 7    AMT_INCOME_TOTAL              Float64\n",
      " 8    AMT_CREDIT                    Float64\n",
      " 9    AMT_ANNUITY                   Float64\n",
      " 10   AMT_GOODS_PRICE               Float64\n",
      " 11   NAME_TYPE_SUITE               string \n",
      " 12   NAME_INCOME_TYPE              string \n",
      " 13   NAME_EDUCATION_TYPE           string \n",
      " 14   NAME_FAMILY_STATUS            string \n",
      " 15   NAME_HOUSING_TYPE             string \n",
      " 16   REGION_POPULATION_RELATIVE    Float64\n",
      " 17   DAYS_BIRTH                    Int64  \n",
      " 18   DAYS_EMPLOYED                 Int64  \n",
      " 19   DAYS_REGISTRATION             Float64\n",
      " 20   DAYS_ID_PUBLISH               Int64  \n",
      " 21   OWN_CAR_AGE                   Int64  \n",
      " 22   FLAG_MOBIL                    Int64  \n",
      " 23   FLAG_EMP_PHONE                Int64  \n",
      " 24   FLAG_WORK_PHONE               Int64  \n",
      " 25   FLAG_CONT_MOBILE              Int64  \n",
      " 26   FLAG_PHONE                    Int64  \n",
      " 27   FLAG_EMAIL                    Int64  \n",
      " 28   OCCUPATION_TYPE               string \n",
      " 29   CNT_FAM_MEMBERS               Int64  \n",
      " 30   REGION_RATING_CLIENT          Int64  \n",
      " 31   REGION_RATING_CLIENT_W_CITY   Int64  \n",
      " 32   WEEKDAY_APPR_PROCESS_START    string \n",
      " 33   HOUR_APPR_PROCESS_START       Int64  \n",
      " 34   REG_REGION_NOT_LIVE_REGION    Int64  \n",
      " 35   REG_REGION_NOT_WORK_REGION    Int64  \n",
      " 36   LIVE_REGION_NOT_WORK_REGION   Int64  \n",
      " 37   REG_CITY_NOT_LIVE_CITY        Int64  \n",
      " 38   REG_CITY_NOT_WORK_CITY        Int64  \n",
      " 39   LIVE_CITY_NOT_WORK_CITY       Int64  \n",
      " 40   ORGANIZATION_TYPE             string \n",
      " 41   EXT_SOURCE_1                  Float64\n",
      " 42   EXT_SOURCE_2                  Float64\n",
      " 43   EXT_SOURCE_3                  Float64\n",
      " 44   APARTMENTS_AVG                Float64\n",
      " 45   BASEMENTAREA_AVG              Float64\n",
      " 46   YEARS_BEGINEXPLUATATION_AVG   Float64\n",
      " 47   YEARS_BUILD_AVG               Float64\n",
      " 48   COMMONAREA_AVG                Float64\n",
      " 49   ELEVATORS_AVG                 Float64\n",
      " 50   ENTRANCES_AVG                 Float64\n",
      " 51   FLOORSMAX_AVG                 Float64\n",
      " 52   FLOORSMIN_AVG                 Float64\n",
      " 53   LANDAREA_AVG                  Float64\n",
      " 54   LIVINGAPARTMENTS_AVG          Float64\n",
      " 55   LIVINGAREA_AVG                Float64\n",
      " 56   NONLIVINGAPARTMENTS_AVG       Float64\n",
      " 57   NONLIVINGAREA_AVG             Float64\n",
      " 58   APARTMENTS_MODE               Float64\n",
      " 59   BASEMENTAREA_MODE             Float64\n",
      " 60   YEARS_BEGINEXPLUATATION_MODE  Float64\n",
      " 61   YEARS_BUILD_MODE              Float64\n",
      " 62   COMMONAREA_MODE               Float64\n",
      " 63   ELEVATORS_MODE                Float64\n",
      " 64   ENTRANCES_MODE                Float64\n",
      " 65   FLOORSMAX_MODE                Float64\n",
      " 66   FLOORSMIN_MODE                Float64\n",
      " 67   LANDAREA_MODE                 Float64\n",
      " 68   LIVINGAPARTMENTS_MODE         Float64\n",
      " 69   LIVINGAREA_MODE               Float64\n",
      " 70   NONLIVINGAPARTMENTS_MODE      Float64\n",
      " 71   NONLIVINGAREA_MODE            Float64\n",
      " 72   APARTMENTS_MEDI               Float64\n",
      " 73   BASEMENTAREA_MEDI             Float64\n",
      " 74   YEARS_BEGINEXPLUATATION_MEDI  Float64\n",
      " 75   YEARS_BUILD_MEDI              Float64\n",
      " 76   COMMONAREA_MEDI               Float64\n",
      " 77   ELEVATORS_MEDI                Float64\n",
      " 78   ENTRANCES_MEDI                Float64\n",
      " 79   FLOORSMAX_MEDI                Float64\n",
      " 80   FLOORSMIN_MEDI                Float64\n",
      " 81   LANDAREA_MEDI                 Float64\n",
      " 82   LIVINGAPARTMENTS_MEDI         Float64\n",
      " 83   LIVINGAREA_MEDI               Float64\n",
      " 84   NONLIVINGAPARTMENTS_MEDI      Float64\n",
      " 85   NONLIVINGAREA_MEDI            Float64\n",
      " 86   FONDKAPREMONT_MODE            string \n",
      " 87   HOUSETYPE_MODE                string \n",
      " 88   TOTALAREA_MODE                Float64\n",
      " 89   WALLSMATERIAL_MODE            string \n",
      " 90   EMERGENCYSTATE_MODE           string \n",
      " 91   OBS_30_CNT_SOCIAL_CIRCLE      Int64  \n",
      " 92   DEF_30_CNT_SOCIAL_CIRCLE      Int64  \n",
      " 93   OBS_60_CNT_SOCIAL_CIRCLE      Int64  \n",
      " 94   DEF_60_CNT_SOCIAL_CIRCLE      Int64  \n",
      " 95   DAYS_LAST_PHONE_CHANGE        Int64  \n",
      " 96   FLAG_DOCUMENT_2               Int64  \n",
      " 97   FLAG_DOCUMENT_3               Int64  \n",
      " 98   FLAG_DOCUMENT_4               Int64  \n",
      " 99   FLAG_DOCUMENT_5               Int64  \n",
      " 100  FLAG_DOCUMENT_6               Int64  \n",
      " 101  FLAG_DOCUMENT_7               Int64  \n",
      " 102  FLAG_DOCUMENT_8               Int64  \n",
      " 103  FLAG_DOCUMENT_9               Int64  \n",
      " 104  FLAG_DOCUMENT_10              Int64  \n",
      " 105  FLAG_DOCUMENT_11              Int64  \n",
      " 106  FLAG_DOCUMENT_12              Int64  \n",
      " 107  FLAG_DOCUMENT_13              Int64  \n",
      " 108  FLAG_DOCUMENT_14              Int64  \n",
      " 109  FLAG_DOCUMENT_15              Int64  \n",
      " 110  FLAG_DOCUMENT_16              Int64  \n",
      " 111  FLAG_DOCUMENT_17              Int64  \n",
      " 112  FLAG_DOCUMENT_18              Int64  \n",
      " 113  FLAG_DOCUMENT_19              Int64  \n",
      " 114  FLAG_DOCUMENT_20              Int64  \n",
      " 115  FLAG_DOCUMENT_21              Int64  \n",
      " 116  AMT_REQ_CREDIT_BUREAU_HOUR    Int64  \n",
      " 117  AMT_REQ_CREDIT_BUREAU_DAY     Int64  \n",
      " 118  AMT_REQ_CREDIT_BUREAU_WEEK    Int64  \n",
      " 119  AMT_REQ_CREDIT_BUREAU_MON     Int64  \n",
      " 120  AMT_REQ_CREDIT_BUREAU_QRT     Int64  \n",
      " 121  AMT_REQ_CREDIT_BUREAU_YEAR    Int64  \n",
      "dtypes: Float64(52), Int64(54), string(16)\n",
      "memory usage: 317.3 MB\n"
     ]
    }
   ],
   "source": [
    "df_curr_application = df_curr_application.convert_dtypes()\n",
    "df_curr_application.info(-1)"
   ]
  },
  {
   "cell_type": "markdown",
   "id": "18a0cdd2",
   "metadata": {},
   "source": [
    "<h2>\n",
    "Checking datatypes of colums in<tt> df_prev_application </tt>dataset\n",
    "</h2>"
   ]
  },
  {
   "cell_type": "code",
   "execution_count": 7,
   "id": "b001f11d",
   "metadata": {},
   "outputs": [
    {
     "name": "stdout",
     "output_type": "stream",
     "text": [
      "<class 'pandas.core.frame.DataFrame'>\n",
      "RangeIndex: 1670214 entries, 0 to 1670213\n",
      "Data columns (total 37 columns):\n",
      " #   Column                       Non-Null Count    Dtype  \n",
      "---  ------                       --------------    -----  \n",
      " 0   SK_ID_PREV                   1670214 non-null  int64  \n",
      " 1   SK_ID_CURR                   1670214 non-null  int64  \n",
      " 2   NAME_CONTRACT_TYPE           1670214 non-null  object \n",
      " 3   AMT_ANNUITY                  1297979 non-null  float64\n",
      " 4   AMT_APPLICATION              1670214 non-null  float64\n",
      " 5   AMT_CREDIT                   1670213 non-null  float64\n",
      " 6   AMT_DOWN_PAYMENT             774370 non-null   float64\n",
      " 7   AMT_GOODS_PRICE              1284699 non-null  float64\n",
      " 8   WEEKDAY_APPR_PROCESS_START   1670214 non-null  object \n",
      " 9   HOUR_APPR_PROCESS_START      1670214 non-null  int64  \n",
      " 10  FLAG_LAST_APPL_PER_CONTRACT  1670214 non-null  object \n",
      " 11  NFLAG_LAST_APPL_IN_DAY       1670214 non-null  int64  \n",
      " 12  RATE_DOWN_PAYMENT            774370 non-null   float64\n",
      " 13  RATE_INTEREST_PRIMARY        5951 non-null     float64\n",
      " 14  RATE_INTEREST_PRIVILEGED     5951 non-null     float64\n",
      " 15  NAME_CASH_LOAN_PURPOSE       1670214 non-null  object \n",
      " 16  NAME_CONTRACT_STATUS         1670214 non-null  object \n",
      " 17  DAYS_DECISION                1670214 non-null  int64  \n",
      " 18  NAME_PAYMENT_TYPE            1670214 non-null  object \n",
      " 19  CODE_REJECT_REASON           1670214 non-null  object \n",
      " 20  NAME_TYPE_SUITE              849809 non-null   object \n",
      " 21  NAME_CLIENT_TYPE             1670214 non-null  object \n",
      " 22  NAME_GOODS_CATEGORY          1670214 non-null  object \n",
      " 23  NAME_PORTFOLIO               1670214 non-null  object \n",
      " 24  NAME_PRODUCT_TYPE            1670214 non-null  object \n",
      " 25  CHANNEL_TYPE                 1670214 non-null  object \n",
      " 26  SELLERPLACE_AREA             1670214 non-null  int64  \n",
      " 27  NAME_SELLER_INDUSTRY         1670214 non-null  object \n",
      " 28  CNT_PAYMENT                  1297984 non-null  float64\n",
      " 29  NAME_YIELD_GROUP             1670214 non-null  object \n",
      " 30  PRODUCT_COMBINATION          1669868 non-null  object \n",
      " 31  DAYS_FIRST_DRAWING           997149 non-null   float64\n",
      " 32  DAYS_FIRST_DUE               997149 non-null   float64\n",
      " 33  DAYS_LAST_DUE_1ST_VERSION    997149 non-null   float64\n",
      " 34  DAYS_LAST_DUE                997149 non-null   float64\n",
      " 35  DAYS_TERMINATION             997149 non-null   float64\n",
      " 36  NFLAG_INSURED_ON_APPROVAL    997149 non-null   float64\n",
      "dtypes: float64(15), int64(6), object(16)\n",
      "memory usage: 471.5+ MB\n"
     ]
    }
   ],
   "source": [
    "df_prev_application.info(-1)"
   ]
  },
  {
   "cell_type": "markdown",
   "id": "55a998c7",
   "metadata": {},
   "source": [
    "<h2>\n",
    "Converting df(<tt> df_prev_application </tt>)dtypes to best possible dtypes:\n",
    "</h2>"
   ]
  },
  {
   "cell_type": "code",
   "execution_count": 8,
   "id": "1b157c65",
   "metadata": {},
   "outputs": [
    {
     "name": "stdout",
     "output_type": "stream",
     "text": [
      "<class 'pandas.core.frame.DataFrame'>\n",
      "RangeIndex: 1670214 entries, 0 to 1670213\n",
      "Data columns (total 37 columns):\n",
      " #   Column                       Non-Null Count    Dtype  \n",
      "---  ------                       --------------    -----  \n",
      " 0   SK_ID_PREV                   1670214 non-null  Int64  \n",
      " 1   SK_ID_CURR                   1670214 non-null  Int64  \n",
      " 2   NAME_CONTRACT_TYPE           1670214 non-null  string \n",
      " 3   AMT_ANNUITY                  1297979 non-null  Float64\n",
      " 4   AMT_APPLICATION              1670214 non-null  Float64\n",
      " 5   AMT_CREDIT                   1670213 non-null  Float64\n",
      " 6   AMT_DOWN_PAYMENT             774370 non-null   Float64\n",
      " 7   AMT_GOODS_PRICE              1284699 non-null  Float64\n",
      " 8   WEEKDAY_APPR_PROCESS_START   1670214 non-null  string \n",
      " 9   HOUR_APPR_PROCESS_START      1670214 non-null  Int64  \n",
      " 10  FLAG_LAST_APPL_PER_CONTRACT  1670214 non-null  string \n",
      " 11  NFLAG_LAST_APPL_IN_DAY       1670214 non-null  Int64  \n",
      " 12  RATE_DOWN_PAYMENT            774370 non-null   Float64\n",
      " 13  RATE_INTEREST_PRIMARY        5951 non-null     Float64\n",
      " 14  RATE_INTEREST_PRIVILEGED     5951 non-null     Float64\n",
      " 15  NAME_CASH_LOAN_PURPOSE       1670214 non-null  string \n",
      " 16  NAME_CONTRACT_STATUS         1670214 non-null  string \n",
      " 17  DAYS_DECISION                1670214 non-null  Int64  \n",
      " 18  NAME_PAYMENT_TYPE            1670214 non-null  string \n",
      " 19  CODE_REJECT_REASON           1670214 non-null  string \n",
      " 20  NAME_TYPE_SUITE              849809 non-null   string \n",
      " 21  NAME_CLIENT_TYPE             1670214 non-null  string \n",
      " 22  NAME_GOODS_CATEGORY          1670214 non-null  string \n",
      " 23  NAME_PORTFOLIO               1670214 non-null  string \n",
      " 24  NAME_PRODUCT_TYPE            1670214 non-null  string \n",
      " 25  CHANNEL_TYPE                 1670214 non-null  string \n",
      " 26  SELLERPLACE_AREA             1670214 non-null  Int64  \n",
      " 27  NAME_SELLER_INDUSTRY         1670214 non-null  string \n",
      " 28  CNT_PAYMENT                  1297984 non-null  Int64  \n",
      " 29  NAME_YIELD_GROUP             1670214 non-null  string \n",
      " 30  PRODUCT_COMBINATION          1669868 non-null  string \n",
      " 31  DAYS_FIRST_DRAWING           997149 non-null   Int64  \n",
      " 32  DAYS_FIRST_DUE               997149 non-null   Int64  \n",
      " 33  DAYS_LAST_DUE_1ST_VERSION    997149 non-null   Int64  \n",
      " 34  DAYS_LAST_DUE                997149 non-null   Int64  \n",
      " 35  DAYS_TERMINATION             997149 non-null   Int64  \n",
      " 36  NFLAG_INSURED_ON_APPROVAL    997149 non-null   Int64  \n",
      "dtypes: Float64(8), Int64(13), string(16)\n",
      "memory usage: 504.9 MB\n"
     ]
    }
   ],
   "source": [
    "df_prev_application = df_prev_application.convert_dtypes()\n",
    "df_prev_application.info(-1)"
   ]
  },
  {
   "cell_type": "markdown",
   "id": "3ae74078",
   "metadata": {},
   "source": [
    "<h2> Finding columns having missing values more than 50% (in <tt> df_curr_application</tt>)</h2>\n",
    "<i>We can simply <b>drop</b> these values as missing data can reduce the statistical power of a study and can produce biased estimates, leading to invalid conclusions.<i>"
   ]
  },
  {
   "cell_type": "code",
   "execution_count": 9,
   "id": "c1c1c910",
   "metadata": {},
   "outputs": [
    {
     "name": "stdout",
     "output_type": "stream",
     "text": [
      "Number of columns having missing values more than 50% : 41 \n",
      "\n",
      "                  column_name  percentage\n",
      "3                OWN_CAR_AGE   65.990810\n",
      "6               EXT_SOURCE_1   56.381073\n",
      "9             APARTMENTS_AVG   50.749729\n",
      "10          BASEMENTAREA_AVG   58.515956\n",
      "12           YEARS_BUILD_AVG   66.497784\n",
      "13            COMMONAREA_AVG   69.872297\n",
      "14             ELEVATORS_AVG   53.295980\n",
      "15             ENTRANCES_AVG   50.348768\n",
      "17             FLOORSMIN_AVG   67.848630\n",
      "18              LANDAREA_AVG   59.376738\n",
      "19      LIVINGAPARTMENTS_AVG   68.354953\n",
      "20            LIVINGAREA_AVG   50.193326\n",
      "21   NONLIVINGAPARTMENTS_AVG   69.432963\n",
      "22         NONLIVINGAREA_AVG   55.179164\n",
      "23           APARTMENTS_MODE   50.749729\n",
      "24         BASEMENTAREA_MODE   58.515956\n",
      "26          YEARS_BUILD_MODE   66.497784\n",
      "27           COMMONAREA_MODE   69.872297\n",
      "28            ELEVATORS_MODE   53.295980\n",
      "29            ENTRANCES_MODE   50.348768\n",
      "31            FLOORSMIN_MODE   67.848630\n",
      "32             LANDAREA_MODE   59.376738\n",
      "33     LIVINGAPARTMENTS_MODE   68.354953\n",
      "34           LIVINGAREA_MODE   50.193326\n",
      "35  NONLIVINGAPARTMENTS_MODE   69.432963\n",
      "36        NONLIVINGAREA_MODE   55.179164\n",
      "37           APARTMENTS_MEDI   50.749729\n",
      "38         BASEMENTAREA_MEDI   58.515956\n",
      "40          YEARS_BUILD_MEDI   66.497784\n",
      "41           COMMONAREA_MEDI   69.872297\n",
      "42            ELEVATORS_MEDI   53.295980\n",
      "43            ENTRANCES_MEDI   50.348768\n",
      "45            FLOORSMIN_MEDI   67.848630\n",
      "46             LANDAREA_MEDI   59.376738\n",
      "47     LIVINGAPARTMENTS_MEDI   68.354953\n",
      "48           LIVINGAREA_MEDI   50.193326\n",
      "49  NONLIVINGAPARTMENTS_MEDI   69.432963\n",
      "50        NONLIVINGAREA_MEDI   55.179164\n",
      "51        FONDKAPREMONT_MODE   68.386172\n",
      "52            HOUSETYPE_MODE   50.176091\n",
      "54        WALLSMATERIAL_MODE   50.840783\n"
     ]
    }
   ],
   "source": [
    "missing50_in_curr = pd.DataFrame(columns=['column_name','percentage'])\n",
    "for col in df_curr_application.columns:\n",
    "    if df_curr_application[col].isna().values.any():\n",
    "        percentage = 100*df_curr_application[col].isna().sum()/df_curr_application.shape[0]\n",
    "        missing50_in_curr = missing50_in_curr.append({'column_name' : col, 'percentage' : percentage}, ignore_index=True)\n",
    "print(\"Number of columns having missing values more than 50% :\",missing50_in_curr[missing50_in_curr.percentage >= 50].count()[1],\"\\n\\n\",missing50_in_curr[missing50_in_curr.percentage >= 50])"
   ]
  },
  {
   "cell_type": "markdown",
   "id": "e12736dc",
   "metadata": {},
   "source": [
    "<h2> Filling missing values (in <tt> df_prev_application</tt>) column NAME_TYPE_SUITE</h2>\n",
    "    <li> We will also make a copy of the original dataframe so that we can use it if required</li>\n",
    "    </ul>"
   ]
  },
  {
   "cell_type": "code",
   "execution_count": 10,
   "id": "35ad2ef0",
   "metadata": {},
   "outputs": [
    {
     "data": {
      "text/plain": [
       "Unaccompanied      508970\n",
       "Family             213263\n",
       "Spouse, partner     67069\n",
       "Children            31566\n",
       "Other_B             17624\n",
       "Other_A              9077\n",
       "Group of people      2240\n",
       "Name: NAME_TYPE_SUITE, dtype: Int64"
      ]
     },
     "execution_count": 10,
     "metadata": {},
     "output_type": "execute_result"
    }
   ],
   "source": [
    "df_prev_application['NAME_TYPE_SUITE'].value_counts()"
   ]
  },
  {
   "cell_type": "code",
   "execution_count": 11,
   "id": "503e5215",
   "metadata": {},
   "outputs": [],
   "source": [
    "df_prev_application['NAME_TYPE_SUITE'].fillna(df_prev_application.NAME_TYPE_SUITE.mode()[0], inplace=True)"
   ]
  },
  {
   "cell_type": "code",
   "execution_count": 12,
   "id": "4f7d6664",
   "metadata": {},
   "outputs": [
    {
     "data": {
      "text/plain": [
       "Unaccompanied      1329375\n",
       "Family              213263\n",
       "Spouse, partner      67069\n",
       "Children             31566\n",
       "Other_B              17624\n",
       "Other_A               9077\n",
       "Group of people       2240\n",
       "Name: NAME_TYPE_SUITE, dtype: Int64"
      ]
     },
     "execution_count": 12,
     "metadata": {},
     "output_type": "execute_result"
    }
   ],
   "source": [
    "df_prev_application['NAME_TYPE_SUITE'].value_counts()"
   ]
  },
  {
   "cell_type": "markdown",
   "id": "dcb204eb",
   "metadata": {},
   "source": [
    "<h2>Now, finding columns having missing values more than 50% (in <tt> df_prev_application</tt>)</h2>\n",
    "<i>We can simply <b>drop</b> these values as missing data can reduce the statistical power of a study and can produce biased estimates, leading to invalid conclusions.<i>"
   ]
  },
  {
   "cell_type": "code",
   "execution_count": 13,
   "id": "315c40b7",
   "metadata": {},
   "outputs": [
    {
     "name": "stdout",
     "output_type": "stream",
     "text": [
      "Number of columns having missing values more than 50% : 4 \n",
      "\n",
      "                 column_name  percentage\n",
      "2          AMT_DOWN_PAYMENT   53.636480\n",
      "4         RATE_DOWN_PAYMENT   53.636480\n",
      "5     RATE_INTEREST_PRIMARY   99.643698\n",
      "6  RATE_INTEREST_PRIVILEGED   99.643698\n"
     ]
    }
   ],
   "source": [
    "missing50_in_prev = pd.DataFrame(columns=['column_name','percentage'])\n",
    "for col in df_prev_application.columns:\n",
    "    if df_prev_application[col].isna().values.any():\n",
    "        percentage = 100*df_prev_application[col].isna().sum()/df_prev_application.shape[0]\n",
    "        missing50_in_prev = missing50_in_prev.append({'column_name' : col, 'percentage' : percentage}, ignore_index=True)\n",
    "print(\"Number of columns having missing values more than 50% :\",missing50_in_prev[missing50_in_prev.percentage >= 50].count()[1],\"\\n\\n\",missing50_in_prev[missing50_in_prev.percentage >= 50])"
   ]
  },
  {
   "cell_type": "markdown",
   "id": "15542331",
   "metadata": {},
   "source": [
    "<h2> Dropping coloumns having missing values more than 50%  (in <tt> df_curr_application</tt>)</h2>\n",
    "<ul><li><i>It is necessary to <b>drop</b> these values as missing data can reduce the statistical power of a study and can produce biased estimates, leading to invalid conclusions.<i></li>\n",
    "    <li> We will also make a copy of the original dataframe so that we can use it if required</li>\n",
    "    </ul>"
   ]
  },
  {
   "cell_type": "code",
   "execution_count": 14,
   "id": "b156fc6d",
   "metadata": {},
   "outputs": [
    {
     "name": "stdout",
     "output_type": "stream",
     "text": [
      "Earlier df had  122  columns, but now it has  55 columns.\n"
     ]
    },
    {
     "data": {
      "text/html": [
       "<div>\n",
       "<style scoped>\n",
       "    .dataframe tbody tr th:only-of-type {\n",
       "        vertical-align: middle;\n",
       "    }\n",
       "\n",
       "    .dataframe tbody tr th {\n",
       "        vertical-align: top;\n",
       "    }\n",
       "\n",
       "    .dataframe thead th {\n",
       "        text-align: right;\n",
       "    }\n",
       "</style>\n",
       "<table border=\"1\" class=\"dataframe\">\n",
       "  <thead>\n",
       "    <tr style=\"text-align: right;\">\n",
       "      <th></th>\n",
       "      <th>SK_ID_CURR</th>\n",
       "      <th>TARGET</th>\n",
       "      <th>NAME_CONTRACT_TYPE</th>\n",
       "      <th>CODE_GENDER</th>\n",
       "      <th>FLAG_OWN_CAR</th>\n",
       "      <th>FLAG_OWN_REALTY</th>\n",
       "      <th>CNT_CHILDREN</th>\n",
       "      <th>AMT_INCOME_TOTAL</th>\n",
       "      <th>AMT_CREDIT</th>\n",
       "      <th>NAME_INCOME_TYPE</th>\n",
       "      <th>...</th>\n",
       "      <th>FLAG_DOCUMENT_12</th>\n",
       "      <th>FLAG_DOCUMENT_13</th>\n",
       "      <th>FLAG_DOCUMENT_14</th>\n",
       "      <th>FLAG_DOCUMENT_15</th>\n",
       "      <th>FLAG_DOCUMENT_16</th>\n",
       "      <th>FLAG_DOCUMENT_17</th>\n",
       "      <th>FLAG_DOCUMENT_18</th>\n",
       "      <th>FLAG_DOCUMENT_19</th>\n",
       "      <th>FLAG_DOCUMENT_20</th>\n",
       "      <th>FLAG_DOCUMENT_21</th>\n",
       "    </tr>\n",
       "  </thead>\n",
       "  <tbody>\n",
       "    <tr>\n",
       "      <th>0</th>\n",
       "      <td>100002</td>\n",
       "      <td>1</td>\n",
       "      <td>Cash loans</td>\n",
       "      <td>M</td>\n",
       "      <td>N</td>\n",
       "      <td>Y</td>\n",
       "      <td>0</td>\n",
       "      <td>202500.0</td>\n",
       "      <td>406597.5</td>\n",
       "      <td>Working</td>\n",
       "      <td>...</td>\n",
       "      <td>0</td>\n",
       "      <td>0</td>\n",
       "      <td>0</td>\n",
       "      <td>0</td>\n",
       "      <td>0</td>\n",
       "      <td>0</td>\n",
       "      <td>0</td>\n",
       "      <td>0</td>\n",
       "      <td>0</td>\n",
       "      <td>0</td>\n",
       "    </tr>\n",
       "    <tr>\n",
       "      <th>1</th>\n",
       "      <td>100003</td>\n",
       "      <td>0</td>\n",
       "      <td>Cash loans</td>\n",
       "      <td>F</td>\n",
       "      <td>N</td>\n",
       "      <td>N</td>\n",
       "      <td>0</td>\n",
       "      <td>270000.0</td>\n",
       "      <td>1293502.5</td>\n",
       "      <td>State servant</td>\n",
       "      <td>...</td>\n",
       "      <td>0</td>\n",
       "      <td>0</td>\n",
       "      <td>0</td>\n",
       "      <td>0</td>\n",
       "      <td>0</td>\n",
       "      <td>0</td>\n",
       "      <td>0</td>\n",
       "      <td>0</td>\n",
       "      <td>0</td>\n",
       "      <td>0</td>\n",
       "    </tr>\n",
       "    <tr>\n",
       "      <th>2</th>\n",
       "      <td>100004</td>\n",
       "      <td>0</td>\n",
       "      <td>Revolving loans</td>\n",
       "      <td>M</td>\n",
       "      <td>Y</td>\n",
       "      <td>Y</td>\n",
       "      <td>0</td>\n",
       "      <td>67500.0</td>\n",
       "      <td>135000.0</td>\n",
       "      <td>Working</td>\n",
       "      <td>...</td>\n",
       "      <td>0</td>\n",
       "      <td>0</td>\n",
       "      <td>0</td>\n",
       "      <td>0</td>\n",
       "      <td>0</td>\n",
       "      <td>0</td>\n",
       "      <td>0</td>\n",
       "      <td>0</td>\n",
       "      <td>0</td>\n",
       "      <td>0</td>\n",
       "    </tr>\n",
       "    <tr>\n",
       "      <th>3</th>\n",
       "      <td>100006</td>\n",
       "      <td>0</td>\n",
       "      <td>Cash loans</td>\n",
       "      <td>F</td>\n",
       "      <td>N</td>\n",
       "      <td>Y</td>\n",
       "      <td>0</td>\n",
       "      <td>135000.0</td>\n",
       "      <td>312682.5</td>\n",
       "      <td>Working</td>\n",
       "      <td>...</td>\n",
       "      <td>0</td>\n",
       "      <td>0</td>\n",
       "      <td>0</td>\n",
       "      <td>0</td>\n",
       "      <td>0</td>\n",
       "      <td>0</td>\n",
       "      <td>0</td>\n",
       "      <td>0</td>\n",
       "      <td>0</td>\n",
       "      <td>0</td>\n",
       "    </tr>\n",
       "    <tr>\n",
       "      <th>4</th>\n",
       "      <td>100007</td>\n",
       "      <td>0</td>\n",
       "      <td>Cash loans</td>\n",
       "      <td>M</td>\n",
       "      <td>N</td>\n",
       "      <td>Y</td>\n",
       "      <td>0</td>\n",
       "      <td>121500.0</td>\n",
       "      <td>513000.0</td>\n",
       "      <td>Working</td>\n",
       "      <td>...</td>\n",
       "      <td>0</td>\n",
       "      <td>0</td>\n",
       "      <td>0</td>\n",
       "      <td>0</td>\n",
       "      <td>0</td>\n",
       "      <td>0</td>\n",
       "      <td>0</td>\n",
       "      <td>0</td>\n",
       "      <td>0</td>\n",
       "      <td>0</td>\n",
       "    </tr>\n",
       "    <tr>\n",
       "      <th>...</th>\n",
       "      <td>...</td>\n",
       "      <td>...</td>\n",
       "      <td>...</td>\n",
       "      <td>...</td>\n",
       "      <td>...</td>\n",
       "      <td>...</td>\n",
       "      <td>...</td>\n",
       "      <td>...</td>\n",
       "      <td>...</td>\n",
       "      <td>...</td>\n",
       "      <td>...</td>\n",
       "      <td>...</td>\n",
       "      <td>...</td>\n",
       "      <td>...</td>\n",
       "      <td>...</td>\n",
       "      <td>...</td>\n",
       "      <td>...</td>\n",
       "      <td>...</td>\n",
       "      <td>...</td>\n",
       "      <td>...</td>\n",
       "      <td>...</td>\n",
       "    </tr>\n",
       "    <tr>\n",
       "      <th>307506</th>\n",
       "      <td>456251</td>\n",
       "      <td>0</td>\n",
       "      <td>Cash loans</td>\n",
       "      <td>M</td>\n",
       "      <td>N</td>\n",
       "      <td>N</td>\n",
       "      <td>0</td>\n",
       "      <td>157500.0</td>\n",
       "      <td>254700.0</td>\n",
       "      <td>Working</td>\n",
       "      <td>...</td>\n",
       "      <td>0</td>\n",
       "      <td>0</td>\n",
       "      <td>0</td>\n",
       "      <td>0</td>\n",
       "      <td>0</td>\n",
       "      <td>0</td>\n",
       "      <td>0</td>\n",
       "      <td>0</td>\n",
       "      <td>0</td>\n",
       "      <td>0</td>\n",
       "    </tr>\n",
       "    <tr>\n",
       "      <th>307507</th>\n",
       "      <td>456252</td>\n",
       "      <td>0</td>\n",
       "      <td>Cash loans</td>\n",
       "      <td>F</td>\n",
       "      <td>N</td>\n",
       "      <td>Y</td>\n",
       "      <td>0</td>\n",
       "      <td>72000.0</td>\n",
       "      <td>269550.0</td>\n",
       "      <td>Pensioner</td>\n",
       "      <td>...</td>\n",
       "      <td>0</td>\n",
       "      <td>0</td>\n",
       "      <td>0</td>\n",
       "      <td>0</td>\n",
       "      <td>0</td>\n",
       "      <td>0</td>\n",
       "      <td>0</td>\n",
       "      <td>0</td>\n",
       "      <td>0</td>\n",
       "      <td>0</td>\n",
       "    </tr>\n",
       "    <tr>\n",
       "      <th>307508</th>\n",
       "      <td>456253</td>\n",
       "      <td>0</td>\n",
       "      <td>Cash loans</td>\n",
       "      <td>F</td>\n",
       "      <td>N</td>\n",
       "      <td>Y</td>\n",
       "      <td>0</td>\n",
       "      <td>153000.0</td>\n",
       "      <td>677664.0</td>\n",
       "      <td>Working</td>\n",
       "      <td>...</td>\n",
       "      <td>0</td>\n",
       "      <td>0</td>\n",
       "      <td>0</td>\n",
       "      <td>0</td>\n",
       "      <td>0</td>\n",
       "      <td>0</td>\n",
       "      <td>0</td>\n",
       "      <td>0</td>\n",
       "      <td>0</td>\n",
       "      <td>0</td>\n",
       "    </tr>\n",
       "    <tr>\n",
       "      <th>307509</th>\n",
       "      <td>456254</td>\n",
       "      <td>1</td>\n",
       "      <td>Cash loans</td>\n",
       "      <td>F</td>\n",
       "      <td>N</td>\n",
       "      <td>Y</td>\n",
       "      <td>0</td>\n",
       "      <td>171000.0</td>\n",
       "      <td>370107.0</td>\n",
       "      <td>Commercial associate</td>\n",
       "      <td>...</td>\n",
       "      <td>0</td>\n",
       "      <td>0</td>\n",
       "      <td>0</td>\n",
       "      <td>0</td>\n",
       "      <td>0</td>\n",
       "      <td>0</td>\n",
       "      <td>0</td>\n",
       "      <td>0</td>\n",
       "      <td>0</td>\n",
       "      <td>0</td>\n",
       "    </tr>\n",
       "    <tr>\n",
       "      <th>307510</th>\n",
       "      <td>456255</td>\n",
       "      <td>0</td>\n",
       "      <td>Cash loans</td>\n",
       "      <td>F</td>\n",
       "      <td>N</td>\n",
       "      <td>N</td>\n",
       "      <td>0</td>\n",
       "      <td>157500.0</td>\n",
       "      <td>675000.0</td>\n",
       "      <td>Commercial associate</td>\n",
       "      <td>...</td>\n",
       "      <td>0</td>\n",
       "      <td>0</td>\n",
       "      <td>0</td>\n",
       "      <td>0</td>\n",
       "      <td>0</td>\n",
       "      <td>0</td>\n",
       "      <td>0</td>\n",
       "      <td>0</td>\n",
       "      <td>0</td>\n",
       "      <td>0</td>\n",
       "    </tr>\n",
       "  </tbody>\n",
       "</table>\n",
       "<p>307511 rows × 55 columns</p>\n",
       "</div>"
      ],
      "text/plain": [
       "        SK_ID_CURR  TARGET NAME_CONTRACT_TYPE CODE_GENDER FLAG_OWN_CAR  \\\n",
       "0           100002       1         Cash loans           M            N   \n",
       "1           100003       0         Cash loans           F            N   \n",
       "2           100004       0    Revolving loans           M            Y   \n",
       "3           100006       0         Cash loans           F            N   \n",
       "4           100007       0         Cash loans           M            N   \n",
       "...            ...     ...                ...         ...          ...   \n",
       "307506      456251       0         Cash loans           M            N   \n",
       "307507      456252       0         Cash loans           F            N   \n",
       "307508      456253       0         Cash loans           F            N   \n",
       "307509      456254       1         Cash loans           F            N   \n",
       "307510      456255       0         Cash loans           F            N   \n",
       "\n",
       "       FLAG_OWN_REALTY  CNT_CHILDREN  AMT_INCOME_TOTAL  AMT_CREDIT  \\\n",
       "0                    Y             0          202500.0    406597.5   \n",
       "1                    N             0          270000.0   1293502.5   \n",
       "2                    Y             0           67500.0    135000.0   \n",
       "3                    Y             0          135000.0    312682.5   \n",
       "4                    Y             0          121500.0    513000.0   \n",
       "...                ...           ...               ...         ...   \n",
       "307506               N             0          157500.0    254700.0   \n",
       "307507               Y             0           72000.0    269550.0   \n",
       "307508               Y             0          153000.0    677664.0   \n",
       "307509               Y             0          171000.0    370107.0   \n",
       "307510               N             0          157500.0    675000.0   \n",
       "\n",
       "            NAME_INCOME_TYPE  ... FLAG_DOCUMENT_12 FLAG_DOCUMENT_13  \\\n",
       "0                    Working  ...                0                0   \n",
       "1              State servant  ...                0                0   \n",
       "2                    Working  ...                0                0   \n",
       "3                    Working  ...                0                0   \n",
       "4                    Working  ...                0                0   \n",
       "...                      ...  ...              ...              ...   \n",
       "307506               Working  ...                0                0   \n",
       "307507             Pensioner  ...                0                0   \n",
       "307508               Working  ...                0                0   \n",
       "307509  Commercial associate  ...                0                0   \n",
       "307510  Commercial associate  ...                0                0   \n",
       "\n",
       "       FLAG_DOCUMENT_14  FLAG_DOCUMENT_15  FLAG_DOCUMENT_16  FLAG_DOCUMENT_17  \\\n",
       "0                     0                 0                 0                 0   \n",
       "1                     0                 0                 0                 0   \n",
       "2                     0                 0                 0                 0   \n",
       "3                     0                 0                 0                 0   \n",
       "4                     0                 0                 0                 0   \n",
       "...                 ...               ...               ...               ...   \n",
       "307506                0                 0                 0                 0   \n",
       "307507                0                 0                 0                 0   \n",
       "307508                0                 0                 0                 0   \n",
       "307509                0                 0                 0                 0   \n",
       "307510                0                 0                 0                 0   \n",
       "\n",
       "        FLAG_DOCUMENT_18  FLAG_DOCUMENT_19  FLAG_DOCUMENT_20  FLAG_DOCUMENT_21  \n",
       "0                      0                 0                 0                 0  \n",
       "1                      0                 0                 0                 0  \n",
       "2                      0                 0                 0                 0  \n",
       "3                      0                 0                 0                 0  \n",
       "4                      0                 0                 0                 0  \n",
       "...                  ...               ...               ...               ...  \n",
       "307506                 0                 0                 0                 0  \n",
       "307507                 0                 0                 0                 0  \n",
       "307508                 0                 0                 0                 0  \n",
       "307509                 0                 0                 0                 0  \n",
       "307510                 0                 0                 0                 0  \n",
       "\n",
       "[307511 rows x 55 columns]"
      ]
     },
     "execution_count": 14,
     "metadata": {},
     "output_type": "execute_result"
    }
   ],
   "source": [
    "df_curr_application2 = df_curr_application.drop(missing50_in_curr.column_name,axis=1)\n",
    "print(\"Earlier df had \",df_curr_application.shape[1],\" columns, but now it has \",df_curr_application2.shape[1],\"columns.\")\n",
    "df_curr_application2"
   ]
  },
  {
   "cell_type": "markdown",
   "id": "c03c8d85",
   "metadata": {},
   "source": [
    "<h2> Dropping coloumns having missing values more than 50%  (in <tt> df_prev_application</tt>)</h2>\n",
    "<ul><li><i>It is necessary to <b>drop</b> these values as missing data can reduce the statistical power of a study and can produce biased estimates, leading to invalid conclusions.<i></li>\n",
    "    <li> We will also make a copy of the original dataframe so that we can use it if required</li>\n",
    "    </ul>"
   ]
  },
  {
   "cell_type": "code",
   "execution_count": 15,
   "id": "8625d72f",
   "metadata": {},
   "outputs": [
    {
     "name": "stdout",
     "output_type": "stream",
     "text": [
      "Earlier df had  37  columns, but now it has  22 columns.\n"
     ]
    },
    {
     "data": {
      "text/html": [
       "<div>\n",
       "<style scoped>\n",
       "    .dataframe tbody tr th:only-of-type {\n",
       "        vertical-align: middle;\n",
       "    }\n",
       "\n",
       "    .dataframe tbody tr th {\n",
       "        vertical-align: top;\n",
       "    }\n",
       "\n",
       "    .dataframe thead th {\n",
       "        text-align: right;\n",
       "    }\n",
       "</style>\n",
       "<table border=\"1\" class=\"dataframe\">\n",
       "  <thead>\n",
       "    <tr style=\"text-align: right;\">\n",
       "      <th></th>\n",
       "      <th>SK_ID_PREV</th>\n",
       "      <th>SK_ID_CURR</th>\n",
       "      <th>NAME_CONTRACT_TYPE</th>\n",
       "      <th>AMT_APPLICATION</th>\n",
       "      <th>WEEKDAY_APPR_PROCESS_START</th>\n",
       "      <th>HOUR_APPR_PROCESS_START</th>\n",
       "      <th>FLAG_LAST_APPL_PER_CONTRACT</th>\n",
       "      <th>NFLAG_LAST_APPL_IN_DAY</th>\n",
       "      <th>NAME_CASH_LOAN_PURPOSE</th>\n",
       "      <th>NAME_CONTRACT_STATUS</th>\n",
       "      <th>...</th>\n",
       "      <th>CODE_REJECT_REASON</th>\n",
       "      <th>NAME_TYPE_SUITE</th>\n",
       "      <th>NAME_CLIENT_TYPE</th>\n",
       "      <th>NAME_GOODS_CATEGORY</th>\n",
       "      <th>NAME_PORTFOLIO</th>\n",
       "      <th>NAME_PRODUCT_TYPE</th>\n",
       "      <th>CHANNEL_TYPE</th>\n",
       "      <th>SELLERPLACE_AREA</th>\n",
       "      <th>NAME_SELLER_INDUSTRY</th>\n",
       "      <th>NAME_YIELD_GROUP</th>\n",
       "    </tr>\n",
       "  </thead>\n",
       "  <tbody>\n",
       "    <tr>\n",
       "      <th>0</th>\n",
       "      <td>2030495</td>\n",
       "      <td>271877</td>\n",
       "      <td>Consumer loans</td>\n",
       "      <td>17145.0</td>\n",
       "      <td>SATURDAY</td>\n",
       "      <td>15</td>\n",
       "      <td>Y</td>\n",
       "      <td>1</td>\n",
       "      <td>XAP</td>\n",
       "      <td>Approved</td>\n",
       "      <td>...</td>\n",
       "      <td>XAP</td>\n",
       "      <td>Unaccompanied</td>\n",
       "      <td>Repeater</td>\n",
       "      <td>Mobile</td>\n",
       "      <td>POS</td>\n",
       "      <td>XNA</td>\n",
       "      <td>Country-wide</td>\n",
       "      <td>35</td>\n",
       "      <td>Connectivity</td>\n",
       "      <td>middle</td>\n",
       "    </tr>\n",
       "    <tr>\n",
       "      <th>1</th>\n",
       "      <td>2802425</td>\n",
       "      <td>108129</td>\n",
       "      <td>Cash loans</td>\n",
       "      <td>607500.0</td>\n",
       "      <td>THURSDAY</td>\n",
       "      <td>11</td>\n",
       "      <td>Y</td>\n",
       "      <td>1</td>\n",
       "      <td>XNA</td>\n",
       "      <td>Approved</td>\n",
       "      <td>...</td>\n",
       "      <td>XAP</td>\n",
       "      <td>Unaccompanied</td>\n",
       "      <td>Repeater</td>\n",
       "      <td>XNA</td>\n",
       "      <td>Cash</td>\n",
       "      <td>x-sell</td>\n",
       "      <td>Contact center</td>\n",
       "      <td>-1</td>\n",
       "      <td>XNA</td>\n",
       "      <td>low_action</td>\n",
       "    </tr>\n",
       "    <tr>\n",
       "      <th>2</th>\n",
       "      <td>2523466</td>\n",
       "      <td>122040</td>\n",
       "      <td>Cash loans</td>\n",
       "      <td>112500.0</td>\n",
       "      <td>TUESDAY</td>\n",
       "      <td>11</td>\n",
       "      <td>Y</td>\n",
       "      <td>1</td>\n",
       "      <td>XNA</td>\n",
       "      <td>Approved</td>\n",
       "      <td>...</td>\n",
       "      <td>XAP</td>\n",
       "      <td>Spouse, partner</td>\n",
       "      <td>Repeater</td>\n",
       "      <td>XNA</td>\n",
       "      <td>Cash</td>\n",
       "      <td>x-sell</td>\n",
       "      <td>Credit and cash offices</td>\n",
       "      <td>-1</td>\n",
       "      <td>XNA</td>\n",
       "      <td>high</td>\n",
       "    </tr>\n",
       "    <tr>\n",
       "      <th>3</th>\n",
       "      <td>2819243</td>\n",
       "      <td>176158</td>\n",
       "      <td>Cash loans</td>\n",
       "      <td>450000.0</td>\n",
       "      <td>MONDAY</td>\n",
       "      <td>7</td>\n",
       "      <td>Y</td>\n",
       "      <td>1</td>\n",
       "      <td>XNA</td>\n",
       "      <td>Approved</td>\n",
       "      <td>...</td>\n",
       "      <td>XAP</td>\n",
       "      <td>Unaccompanied</td>\n",
       "      <td>Repeater</td>\n",
       "      <td>XNA</td>\n",
       "      <td>Cash</td>\n",
       "      <td>x-sell</td>\n",
       "      <td>Credit and cash offices</td>\n",
       "      <td>-1</td>\n",
       "      <td>XNA</td>\n",
       "      <td>middle</td>\n",
       "    </tr>\n",
       "    <tr>\n",
       "      <th>4</th>\n",
       "      <td>1784265</td>\n",
       "      <td>202054</td>\n",
       "      <td>Cash loans</td>\n",
       "      <td>337500.0</td>\n",
       "      <td>THURSDAY</td>\n",
       "      <td>9</td>\n",
       "      <td>Y</td>\n",
       "      <td>1</td>\n",
       "      <td>Repairs</td>\n",
       "      <td>Refused</td>\n",
       "      <td>...</td>\n",
       "      <td>HC</td>\n",
       "      <td>Unaccompanied</td>\n",
       "      <td>Repeater</td>\n",
       "      <td>XNA</td>\n",
       "      <td>Cash</td>\n",
       "      <td>walk-in</td>\n",
       "      <td>Credit and cash offices</td>\n",
       "      <td>-1</td>\n",
       "      <td>XNA</td>\n",
       "      <td>high</td>\n",
       "    </tr>\n",
       "    <tr>\n",
       "      <th>...</th>\n",
       "      <td>...</td>\n",
       "      <td>...</td>\n",
       "      <td>...</td>\n",
       "      <td>...</td>\n",
       "      <td>...</td>\n",
       "      <td>...</td>\n",
       "      <td>...</td>\n",
       "      <td>...</td>\n",
       "      <td>...</td>\n",
       "      <td>...</td>\n",
       "      <td>...</td>\n",
       "      <td>...</td>\n",
       "      <td>...</td>\n",
       "      <td>...</td>\n",
       "      <td>...</td>\n",
       "      <td>...</td>\n",
       "      <td>...</td>\n",
       "      <td>...</td>\n",
       "      <td>...</td>\n",
       "      <td>...</td>\n",
       "      <td>...</td>\n",
       "    </tr>\n",
       "    <tr>\n",
       "      <th>1670209</th>\n",
       "      <td>2300464</td>\n",
       "      <td>352015</td>\n",
       "      <td>Consumer loans</td>\n",
       "      <td>267295.5</td>\n",
       "      <td>WEDNESDAY</td>\n",
       "      <td>12</td>\n",
       "      <td>Y</td>\n",
       "      <td>1</td>\n",
       "      <td>XAP</td>\n",
       "      <td>Approved</td>\n",
       "      <td>...</td>\n",
       "      <td>XAP</td>\n",
       "      <td>Unaccompanied</td>\n",
       "      <td>Refreshed</td>\n",
       "      <td>Furniture</td>\n",
       "      <td>POS</td>\n",
       "      <td>XNA</td>\n",
       "      <td>Stone</td>\n",
       "      <td>43</td>\n",
       "      <td>Furniture</td>\n",
       "      <td>low_normal</td>\n",
       "    </tr>\n",
       "    <tr>\n",
       "      <th>1670210</th>\n",
       "      <td>2357031</td>\n",
       "      <td>334635</td>\n",
       "      <td>Consumer loans</td>\n",
       "      <td>87750.0</td>\n",
       "      <td>TUESDAY</td>\n",
       "      <td>15</td>\n",
       "      <td>Y</td>\n",
       "      <td>1</td>\n",
       "      <td>XAP</td>\n",
       "      <td>Approved</td>\n",
       "      <td>...</td>\n",
       "      <td>XAP</td>\n",
       "      <td>Unaccompanied</td>\n",
       "      <td>New</td>\n",
       "      <td>Furniture</td>\n",
       "      <td>POS</td>\n",
       "      <td>XNA</td>\n",
       "      <td>Stone</td>\n",
       "      <td>43</td>\n",
       "      <td>Furniture</td>\n",
       "      <td>middle</td>\n",
       "    </tr>\n",
       "    <tr>\n",
       "      <th>1670211</th>\n",
       "      <td>2659632</td>\n",
       "      <td>249544</td>\n",
       "      <td>Consumer loans</td>\n",
       "      <td>105237.0</td>\n",
       "      <td>MONDAY</td>\n",
       "      <td>12</td>\n",
       "      <td>Y</td>\n",
       "      <td>1</td>\n",
       "      <td>XAP</td>\n",
       "      <td>Approved</td>\n",
       "      <td>...</td>\n",
       "      <td>XAP</td>\n",
       "      <td>Spouse, partner</td>\n",
       "      <td>Repeater</td>\n",
       "      <td>Consumer Electronics</td>\n",
       "      <td>POS</td>\n",
       "      <td>XNA</td>\n",
       "      <td>Country-wide</td>\n",
       "      <td>1370</td>\n",
       "      <td>Consumer electronics</td>\n",
       "      <td>low_normal</td>\n",
       "    </tr>\n",
       "    <tr>\n",
       "      <th>1670212</th>\n",
       "      <td>2785582</td>\n",
       "      <td>400317</td>\n",
       "      <td>Cash loans</td>\n",
       "      <td>180000.0</td>\n",
       "      <td>WEDNESDAY</td>\n",
       "      <td>9</td>\n",
       "      <td>Y</td>\n",
       "      <td>1</td>\n",
       "      <td>XNA</td>\n",
       "      <td>Approved</td>\n",
       "      <td>...</td>\n",
       "      <td>XAP</td>\n",
       "      <td>Family</td>\n",
       "      <td>Repeater</td>\n",
       "      <td>XNA</td>\n",
       "      <td>Cash</td>\n",
       "      <td>x-sell</td>\n",
       "      <td>AP+ (Cash loan)</td>\n",
       "      <td>-1</td>\n",
       "      <td>XNA</td>\n",
       "      <td>low_normal</td>\n",
       "    </tr>\n",
       "    <tr>\n",
       "      <th>1670213</th>\n",
       "      <td>2418762</td>\n",
       "      <td>261212</td>\n",
       "      <td>Cash loans</td>\n",
       "      <td>360000.0</td>\n",
       "      <td>SUNDAY</td>\n",
       "      <td>10</td>\n",
       "      <td>Y</td>\n",
       "      <td>1</td>\n",
       "      <td>XNA</td>\n",
       "      <td>Approved</td>\n",
       "      <td>...</td>\n",
       "      <td>XAP</td>\n",
       "      <td>Family</td>\n",
       "      <td>Repeater</td>\n",
       "      <td>XNA</td>\n",
       "      <td>Cash</td>\n",
       "      <td>x-sell</td>\n",
       "      <td>AP+ (Cash loan)</td>\n",
       "      <td>-1</td>\n",
       "      <td>XNA</td>\n",
       "      <td>middle</td>\n",
       "    </tr>\n",
       "  </tbody>\n",
       "</table>\n",
       "<p>1670214 rows × 22 columns</p>\n",
       "</div>"
      ],
      "text/plain": [
       "         SK_ID_PREV  SK_ID_CURR NAME_CONTRACT_TYPE  AMT_APPLICATION  \\\n",
       "0           2030495      271877     Consumer loans          17145.0   \n",
       "1           2802425      108129         Cash loans         607500.0   \n",
       "2           2523466      122040         Cash loans         112500.0   \n",
       "3           2819243      176158         Cash loans         450000.0   \n",
       "4           1784265      202054         Cash loans         337500.0   \n",
       "...             ...         ...                ...              ...   \n",
       "1670209     2300464      352015     Consumer loans         267295.5   \n",
       "1670210     2357031      334635     Consumer loans          87750.0   \n",
       "1670211     2659632      249544     Consumer loans         105237.0   \n",
       "1670212     2785582      400317         Cash loans         180000.0   \n",
       "1670213     2418762      261212         Cash loans         360000.0   \n",
       "\n",
       "        WEEKDAY_APPR_PROCESS_START  HOUR_APPR_PROCESS_START  \\\n",
       "0                         SATURDAY                       15   \n",
       "1                         THURSDAY                       11   \n",
       "2                          TUESDAY                       11   \n",
       "3                           MONDAY                        7   \n",
       "4                         THURSDAY                        9   \n",
       "...                            ...                      ...   \n",
       "1670209                  WEDNESDAY                       12   \n",
       "1670210                    TUESDAY                       15   \n",
       "1670211                     MONDAY                       12   \n",
       "1670212                  WEDNESDAY                        9   \n",
       "1670213                     SUNDAY                       10   \n",
       "\n",
       "        FLAG_LAST_APPL_PER_CONTRACT  NFLAG_LAST_APPL_IN_DAY  \\\n",
       "0                                 Y                       1   \n",
       "1                                 Y                       1   \n",
       "2                                 Y                       1   \n",
       "3                                 Y                       1   \n",
       "4                                 Y                       1   \n",
       "...                             ...                     ...   \n",
       "1670209                           Y                       1   \n",
       "1670210                           Y                       1   \n",
       "1670211                           Y                       1   \n",
       "1670212                           Y                       1   \n",
       "1670213                           Y                       1   \n",
       "\n",
       "        NAME_CASH_LOAN_PURPOSE NAME_CONTRACT_STATUS  ...  CODE_REJECT_REASON  \\\n",
       "0                          XAP             Approved  ...                 XAP   \n",
       "1                          XNA             Approved  ...                 XAP   \n",
       "2                          XNA             Approved  ...                 XAP   \n",
       "3                          XNA             Approved  ...                 XAP   \n",
       "4                      Repairs              Refused  ...                  HC   \n",
       "...                        ...                  ...  ...                 ...   \n",
       "1670209                    XAP             Approved  ...                 XAP   \n",
       "1670210                    XAP             Approved  ...                 XAP   \n",
       "1670211                    XAP             Approved  ...                 XAP   \n",
       "1670212                    XNA             Approved  ...                 XAP   \n",
       "1670213                    XNA             Approved  ...                 XAP   \n",
       "\n",
       "         NAME_TYPE_SUITE NAME_CLIENT_TYPE   NAME_GOODS_CATEGORY  \\\n",
       "0          Unaccompanied         Repeater                Mobile   \n",
       "1          Unaccompanied         Repeater                   XNA   \n",
       "2        Spouse, partner         Repeater                   XNA   \n",
       "3          Unaccompanied         Repeater                   XNA   \n",
       "4          Unaccompanied         Repeater                   XNA   \n",
       "...                  ...              ...                   ...   \n",
       "1670209    Unaccompanied        Refreshed             Furniture   \n",
       "1670210    Unaccompanied              New             Furniture   \n",
       "1670211  Spouse, partner         Repeater  Consumer Electronics   \n",
       "1670212           Family         Repeater                   XNA   \n",
       "1670213           Family         Repeater                   XNA   \n",
       "\n",
       "        NAME_PORTFOLIO NAME_PRODUCT_TYPE             CHANNEL_TYPE  \\\n",
       "0                  POS               XNA             Country-wide   \n",
       "1                 Cash            x-sell           Contact center   \n",
       "2                 Cash            x-sell  Credit and cash offices   \n",
       "3                 Cash            x-sell  Credit and cash offices   \n",
       "4                 Cash           walk-in  Credit and cash offices   \n",
       "...                ...               ...                      ...   \n",
       "1670209            POS               XNA                    Stone   \n",
       "1670210            POS               XNA                    Stone   \n",
       "1670211            POS               XNA             Country-wide   \n",
       "1670212           Cash            x-sell          AP+ (Cash loan)   \n",
       "1670213           Cash            x-sell          AP+ (Cash loan)   \n",
       "\n",
       "        SELLERPLACE_AREA  NAME_SELLER_INDUSTRY  NAME_YIELD_GROUP  \n",
       "0                     35          Connectivity            middle  \n",
       "1                     -1                   XNA        low_action  \n",
       "2                     -1                   XNA              high  \n",
       "3                     -1                   XNA            middle  \n",
       "4                     -1                   XNA              high  \n",
       "...                  ...                   ...               ...  \n",
       "1670209               43             Furniture        low_normal  \n",
       "1670210               43             Furniture            middle  \n",
       "1670211             1370  Consumer electronics        low_normal  \n",
       "1670212               -1                   XNA        low_normal  \n",
       "1670213               -1                   XNA            middle  \n",
       "\n",
       "[1670214 rows x 22 columns]"
      ]
     },
     "execution_count": 15,
     "metadata": {},
     "output_type": "execute_result"
    }
   ],
   "source": [
    "df_prev_application2 = df_prev_application.drop(missing50_in_prev.column_name,axis=1)\n",
    "print(\"Earlier df had \",df_prev_application.shape[1],\" columns, but now it has \",df_prev_application2.shape[1],\"columns.\")\n",
    "df_prev_application2"
   ]
  },
  {
   "cell_type": "markdown",
   "id": "d15f7e67",
   "metadata": {},
   "source": [
    "<li> The name of coloumns remaining after removing the missing value columns</li>"
   ]
  },
  {
   "cell_type": "code",
   "execution_count": 16,
   "id": "77b96033",
   "metadata": {},
   "outputs": [
    {
     "data": {
      "text/plain": [
       "Index(['SK_ID_CURR', 'TARGET', 'NAME_CONTRACT_TYPE', 'CODE_GENDER',\n",
       "       'FLAG_OWN_CAR', 'FLAG_OWN_REALTY', 'CNT_CHILDREN', 'AMT_INCOME_TOTAL',\n",
       "       'AMT_CREDIT', 'NAME_INCOME_TYPE', 'NAME_EDUCATION_TYPE',\n",
       "       'NAME_FAMILY_STATUS', 'NAME_HOUSING_TYPE', 'REGION_POPULATION_RELATIVE',\n",
       "       'DAYS_BIRTH', 'DAYS_EMPLOYED', 'DAYS_REGISTRATION', 'DAYS_ID_PUBLISH',\n",
       "       'FLAG_MOBIL', 'FLAG_EMP_PHONE', 'FLAG_WORK_PHONE', 'FLAG_CONT_MOBILE',\n",
       "       'FLAG_PHONE', 'FLAG_EMAIL', 'REGION_RATING_CLIENT',\n",
       "       'REGION_RATING_CLIENT_W_CITY', 'WEEKDAY_APPR_PROCESS_START',\n",
       "       'HOUR_APPR_PROCESS_START', 'REG_REGION_NOT_LIVE_REGION',\n",
       "       'REG_REGION_NOT_WORK_REGION', 'LIVE_REGION_NOT_WORK_REGION',\n",
       "       'REG_CITY_NOT_LIVE_CITY', 'REG_CITY_NOT_WORK_CITY',\n",
       "       'LIVE_CITY_NOT_WORK_CITY', 'ORGANIZATION_TYPE', 'FLAG_DOCUMENT_2',\n",
       "       'FLAG_DOCUMENT_3', 'FLAG_DOCUMENT_4', 'FLAG_DOCUMENT_5',\n",
       "       'FLAG_DOCUMENT_6', 'FLAG_DOCUMENT_7', 'FLAG_DOCUMENT_8',\n",
       "       'FLAG_DOCUMENT_9', 'FLAG_DOCUMENT_10', 'FLAG_DOCUMENT_11',\n",
       "       'FLAG_DOCUMENT_12', 'FLAG_DOCUMENT_13', 'FLAG_DOCUMENT_14',\n",
       "       'FLAG_DOCUMENT_15', 'FLAG_DOCUMENT_16', 'FLAG_DOCUMENT_17',\n",
       "       'FLAG_DOCUMENT_18', 'FLAG_DOCUMENT_19', 'FLAG_DOCUMENT_20',\n",
       "       'FLAG_DOCUMENT_21'],\n",
       "      dtype='object')"
      ]
     },
     "execution_count": 16,
     "metadata": {},
     "output_type": "execute_result"
    }
   ],
   "source": [
    "df_curr_application2.columns"
   ]
  },
  {
   "cell_type": "markdown",
   "id": "d0d6e3e7",
   "metadata": {},
   "source": [
    "<h2> Identifying if the data is misproportioned: </h2>\n",
    "<i>We can identify that by examining the repayment trend as per <b>TARGET</b> colum<i>"
   ]
  },
  {
   "cell_type": "code",
   "execution_count": 17,
   "id": "10d3c1f1",
   "metadata": {},
   "outputs": [
    {
     "data": {
      "image/png": "[encoded data removed]",
      "text/plain": [
       "<Figure size 432x288 with 1 Axes>"
      ]
     },
     "metadata": {
      "needs_background": "light"
     },
     "output_type": "display_data"
    }
   ],
   "source": [
    "plt.title(\"Payment Status of Current Application\")\n",
    "sns.color_palette(\"tab10\")\n",
    "sns.countplot(y=df_curr_application['TARGET'], palette=['#00ff00',\"#ff0000\"])\n",
    "plt.show()"
   ]
  },
  {
   "cell_type": "markdown",
   "id": "2d65b674",
   "metadata": {},
   "source": [
    "<h2> Proof that the data is misproportioned: </h2>\n",
    "<i>Examining the repayment trend as per <b>TARGET</b> colum:<br><b>NOTE:</b><tt>TARGET</tt> colum is 1 for defaulters & 0 otherwise<i>\n"
   ]
  },
  {
   "cell_type": "code",
   "execution_count": 18,
   "id": "d52b1ff5",
   "metadata": {},
   "outputs": [
    {
     "data": {
      "text/plain": [
       "0    91.927118\n",
       "1     8.072882\n",
       "Name: TARGET, dtype: Float64"
      ]
     },
     "execution_count": 18,
     "metadata": {},
     "output_type": "execute_result"
    }
   ],
   "source": [
    "df_curr_application.TARGET.value_counts(normalize=True)*100"
   ]
  },
  {
   "cell_type": "code",
   "execution_count": 19,
   "id": "5f4a819f",
   "metadata": {},
   "outputs": [
    {
     "name": "stdout",
     "output_type": "stream",
     "text": [
      "Count of Non-Defaulters in df:  282686\n",
      "Count of defaulters in df:  24825\n",
      "Count of total applications:  307511\n",
      "Count of records in df_curr_application:  307511\n",
      "Percentage of defaulters in df:  8.07 %\n"
     ]
    }
   ],
   "source": [
    "count = [0,0]\n",
    "count[0] = df_curr_application[df_curr_application.TARGET == 0].shape[0]\n",
    "count[1] = df_curr_application[df_curr_application.TARGET == 1].shape[0]\n",
    "print(\"Count of Non-Defaulters in df: \", count[0])\n",
    "print(\"Count of defaulters in df: \", count[1])\n",
    "print(\"Count of total applications: \", count[0] + count[1])\n",
    "print(\"Count of records in df_curr_application: \", df_curr_application.shape[0])\n",
    "print(\"Percentage of defaulters in df: \", float(\"{:.2f}\".format((count[1]*100)/df_curr_application.shape[0])),\"%\")"
   ]
  },
  {
   "cell_type": "markdown",
   "id": "3890f020",
   "metadata": {},
   "source": [
    "<h2>Merging columns of <tt>df_curr_application</tt> with <tt>df_prev_application</tt>:</h2>"
   ]
  },
  {
   "cell_type": "code",
   "execution_count": 20,
   "id": "f7198b92",
   "metadata": {},
   "outputs": [
    {
     "name": "stdout",
     "output_type": "stream",
     "text": [
      "<class 'pandas.core.frame.DataFrame'>\n",
      "Int64Index: 1430155 entries, 0 to 1430154\n",
      "Data columns (total 38 columns):\n",
      " #   Column                       Non-Null Count    Dtype  \n",
      "---  ------                       --------------    -----  \n",
      " 0   SK_ID_CURR                   1430155 non-null  Int64  \n",
      " 1   TARGET                       1430155 non-null  Int64  \n",
      " 2   SK_ID_PREV                   1413701 non-null  Int64  \n",
      " 3   NAME_CONTRACT_TYPE           1413701 non-null  string \n",
      " 4   AMT_ANNUITY                  1106483 non-null  Float64\n",
      " 5   AMT_APPLICATION              1413701 non-null  Float64\n",
      " 6   AMT_CREDIT                   1413700 non-null  Float64\n",
      " 7   AMT_DOWN_PAYMENT             664161 non-null   Float64\n",
      " 8   AMT_GOODS_PRICE              1094176 non-null  Float64\n",
      " 9   WEEKDAY_APPR_PROCESS_START   1413701 non-null  string \n",
      " 10  HOUR_APPR_PROCESS_START      1413701 non-null  Int64  \n",
      " 11  FLAG_LAST_APPL_PER_CONTRACT  1413701 non-null  string \n",
      " 12  NFLAG_LAST_APPL_IN_DAY       1413701 non-null  Int64  \n",
      " 13  RATE_DOWN_PAYMENT            664161 non-null   Float64\n",
      " 14  RATE_INTEREST_PRIMARY        4791 non-null     Float64\n",
      " 15  RATE_INTEREST_PRIVILEGED     4791 non-null     Float64\n",
      " 16  NAME_CASH_LOAN_PURPOSE       1413701 non-null  string \n",
      " 17  NAME_CONTRACT_STATUS         1413701 non-null  string \n",
      " 18  DAYS_DECISION                1413701 non-null  Int64  \n",
      " 19  NAME_PAYMENT_TYPE            1413701 non-null  string \n",
      " 20  CODE_REJECT_REASON           1413701 non-null  string \n",
      " 21  NAME_TYPE_SUITE              1413701 non-null  string \n",
      " 22  NAME_CLIENT_TYPE             1413701 non-null  string \n",
      " 23  NAME_GOODS_CATEGORY          1413701 non-null  string \n",
      " 24  NAME_PORTFOLIO               1413701 non-null  string \n",
      " 25  NAME_PRODUCT_TYPE            1413701 non-null  string \n",
      " 26  CHANNEL_TYPE                 1413701 non-null  string \n",
      " 27  SELLERPLACE_AREA             1413701 non-null  Int64  \n",
      " 28  NAME_SELLER_INDUSTRY         1413701 non-null  string \n",
      " 29  CNT_PAYMENT                  1106488 non-null  Int64  \n",
      " 30  NAME_YIELD_GROUP             1413701 non-null  string \n",
      " 31  PRODUCT_COMBINATION          1413388 non-null  string \n",
      " 32  DAYS_FIRST_DRAWING           852595 non-null   Int64  \n",
      " 33  DAYS_FIRST_DUE               852595 non-null   Int64  \n",
      " 34  DAYS_LAST_DUE_1ST_VERSION    852595 non-null   Int64  \n",
      " 35  DAYS_LAST_DUE                852595 non-null   Int64  \n",
      " 36  DAYS_TERMINATION             852595 non-null   Int64  \n",
      " 37  NFLAG_INSURED_ON_APPROVAL    852595 non-null   Int64  \n",
      "dtypes: Float64(8), Int64(14), string(16)\n",
      "memory usage: 455.5 MB\n"
     ]
    }
   ],
   "source": [
    "df_merged = pd.merge(df_curr_application[['SK_ID_CURR', 'TARGET']], df_prev_application, how='left', on=['SK_ID_CURR'])\n",
    "df_merged.info(-1)"
   ]
  },
  {
   "cell_type": "markdown",
   "id": "f04768c0",
   "metadata": {},
   "source": [
    "<h2> Identifying if the data from <tt>df_prev_application</tt> is misproportioned W.R.T. <tt>df_prev_application</tt>: </h2>\n",
    "<i>We can identify that by examining the <b>NAME_CONTRACT_STATUS</b> as per <b>TARGET</b> colum from the merged dataset <b><tt>df_merged</tt></b> as follows:<i>"
   ]
  },
  {
   "cell_type": "code",
   "execution_count": 21,
   "id": "8a8aa0af",
   "metadata": {},
   "outputs": [
    {
     "data": {
      "image/png": "[encoded data removed]",
      "text/plain": [
       "<Figure size 1080x360 with 1 Axes>"
      ]
     },
     "metadata": {
      "needs_background": "light"
     },
     "output_type": "display_data"
    }
   ],
   "source": [
    "plt.figure(figsize=(15, 5))\n",
    "plt.title(\"Payment Status of Previous Application & Payment\")\n",
    "sns.color_palette(\"tab10\")\n",
    "sns.countplot(y=df_merged['NAME_CONTRACT_STATUS'], hue=df_merged['TARGET'], palette=['#00ff00',\"#ff0000\"])\n",
    "plt.show()"
   ]
  },
  {
   "cell_type": "markdown",
   "id": "aae49c21",
   "metadata": {},
   "source": [
    "# Analysis based on current status of Loans"
   ]
  },
  {
   "cell_type": "code",
   "execution_count": 22,
   "id": "e601dd74",
   "metadata": {},
   "outputs": [
    {
     "name": "stdout",
     "output_type": "stream",
     "text": [
      "Payment Status of Previous Application & Payment\n"
     ]
    },
    {
     "data": {
      "image/png": "[encoded data removed]",
      "text/plain": [
       "<Figure size 432x288 with 1 Axes>"
      ]
     },
     "metadata": {},
     "output_type": "display_data"
    }
   ],
   "source": [
    "print(\"Payment Status of Previous Application & Payment\")\n",
    "df_merged.NAME_CONTRACT_TYPE.mode()\n",
    "plt.pie(df_merged['NAME_CONTRACT_STATUS'].value_counts(), labels=[\"Approved\",\"Cancelled\",\"Refused\",\"Unused Offer\"],radius=2.5,explode=(0.1, 0.1,0.1,0.1),autopct='%1.1f%%',colors=['#66b3ff','#00ffaa','#02fa3e','#0080ff'], pctdistance=0.7,textprops={'fontsize': 20})\n",
    "fig = plt.gcf()\n",
    "fig.gca().add_artist(plt.Circle((0,0),1,fc='white'))\n",
    "plt.tight_layout()\n",
    "plt.show()"
   ]
  },
  {
   "cell_type": "markdown",
   "id": "1ff1ee15",
   "metadata": {},
   "source": [
    "<h2>Correcting outliers in the merged dataset <tt>(df_merged)</tt></h2>\n",
    "<i>We can do this by excluding the values greater than 99 percent for <b>AMT_ANNUITY</b> and <b>AMT_DOWN_PAYMENT</b> columns</i>"
   ]
  },
  {
   "cell_type": "code",
   "execution_count": 23,
   "id": "1d174e1d",
   "metadata": {},
   "outputs": [
    {
     "data": {
      "image/png": "[encoded data removed]",
      "text/plain": [
       "<Figure size 1080x288 with 1 Axes>"
      ]
     },
     "metadata": {
      "needs_background": "light"
     },
     "output_type": "display_data"
    }
   ],
   "source": [
    "plt.figure(figsize=(15,4))\n",
    "sns.boxplot(df_merged['AMT_ANNUITY'])\n",
    "plt.show()"
   ]
  },
  {
   "cell_type": "code",
   "execution_count": 24,
   "id": "1d3436f5",
   "metadata": {},
   "outputs": [
    {
     "data": {
      "image/png": "[encoded data removed]",
      "text/plain": [
       "<Figure size 1080x288 with 1 Axes>"
      ]
     },
     "metadata": {
      "needs_background": "light"
     },
     "output_type": "display_data"
    }
   ],
   "source": [
    "plt.figure(figsize=(15,4))\n",
    "sns.boxplot(df_merged['AMT_DOWN_PAYMENT'])\n",
    "plt.show()"
   ]
  },
  {
   "cell_type": "markdown",
   "id": "e5aa47c8",
   "metadata": {},
   "source": [
    "<i>We are excluding the values greater than 99 percent for <b>AMT_ANNUITY</b> and <b>AMT_DOWN_PAYMENT</b> columns:</i>"
   ]
  },
  {
   "cell_type": "code",
   "execution_count": 25,
   "id": "5bb0a043",
   "metadata": {},
   "outputs": [],
   "source": [
    "df_merged = df_merged[df_merged['AMT_ANNUITY'] < 70000]\n",
    "df_merged = df_merged[df_merged['AMT_DOWN_PAYMENT'] < 70000]"
   ]
  },
  {
   "cell_type": "code",
   "execution_count": 26,
   "id": "087117e8",
   "metadata": {},
   "outputs": [
    {
     "data": {
      "image/png": "[encoded data removed]",
      "text/plain": [
       "<Figure size 1080x288 with 1 Axes>"
      ]
     },
     "metadata": {
      "needs_background": "light"
     },
     "output_type": "display_data"
    }
   ],
   "source": [
    "plt.figure(figsize=(15,4))\n",
    "sns.boxplot(df_merged['AMT_ANNUITY'])\n",
    "plt.show()"
   ]
  },
  {
   "cell_type": "code",
   "execution_count": 27,
   "id": "d18abadc",
   "metadata": {},
   "outputs": [
    {
     "data": {
      "image/png": "[encoded data removed]",
      "text/plain": [
       "<Figure size 1080x288 with 1 Axes>"
      ]
     },
     "metadata": {
      "needs_background": "light"
     },
     "output_type": "display_data"
    }
   ],
   "source": [
    "plt.figure(figsize=(15,4))\n",
    "sns.boxplot(df_merged['AMT_DOWN_PAYMENT'])\n",
    "plt.show()"
   ]
  },
  {
   "cell_type": "markdown",
   "id": "61750c02",
   "metadata": {},
   "source": [
    "<h2>Defining most common type of loan that customers are intrested in:</h2>\n",
    "<i> We can get it by looking at the countplot of <b>NAME_CONTRACT_TYPE:</b></i>"
   ]
  },
  {
   "cell_type": "code",
   "execution_count": 28,
   "id": "8c90cb0b",
   "metadata": {},
   "outputs": [
    {
     "data": {
      "text/plain": [
       "count         307511\n",
       "unique             2\n",
       "top       Cash loans\n",
       "freq          278232\n",
       "Name: NAME_CONTRACT_TYPE, dtype: object"
      ]
     },
     "execution_count": 28,
     "metadata": {},
     "output_type": "execute_result"
    }
   ],
   "source": [
    "df_curr_application.NAME_CONTRACT_TYPE.describe()"
   ]
  },
  {
   "cell_type": "code",
   "execution_count": 29,
   "id": "60c87f9e",
   "metadata": {},
   "outputs": [
    {
     "data": {
      "image/png": "[encoded data removed]",
      "text/plain": [
       "<Figure size 432x288 with 1 Axes>"
      ]
     },
     "metadata": {},
     "output_type": "display_data"
    }
   ],
   "source": [
    "df_curr_application.NAME_CONTRACT_TYPE.mode()\n",
    "plt.pie(df_curr_application['NAME_CONTRACT_TYPE'].value_counts(), labels=[\"Cash loans\",\"Revolving loans\"],radius=2.5,explode=(0, 0.3),autopct='%1.1f%%',colors=['#66b3ff','#00ffaa'],textprops={'fontsize': 20})\n",
    "plt.title(\"Loan Scheme vs Demand\")\n",
    "plt.show()"
   ]
  },
  {
   "cell_type": "code",
   "execution_count": 22,
   "id": "74b4c838",
   "metadata": {},
   "outputs": [
    {
     "name": "stdout",
     "output_type": "stream",
     "text": [
      "Payment Status of Previous Application & Payment\n"
     ]
    },
    {
     "data": {
      "image/png": "[encoded data removed]",
      "text/plain": [
       "<Figure size 432x288 with 1 Axes>"
      ]
     },
     "metadata": {},
     "output_type": "display_data"
    }
   ],
   "source": [
    "print(\"Payment Status of Previous Application & Payment\")\n",
    "df_merged.NAME_CONTRACT_TYPE.mode()\n",
    "plt.pie(df_merged['NAME_CONTRACT_STATUS'].value_counts(), labels=[\"Approved\",\"Cancelled\",\"Refused\",\"Unused Offer\"],radius=2.5,explode=(0.1, 0.1,0.1,0.1),autopct='%1.1f%%',colors=['#66b3ff','#00ffaa','#02fa3e','#0080ff'], pctdistance=0.7,textprops={'fontsize': 20})\n",
    "fig = plt.gcf()\n",
    "fig.gca().add_artist(plt.Circle((0,0),1,fc='white'))\n",
    "plt.tight_layout()\n",
    "plt.show()"
   ]
  },
  {
   "cell_type": "code",
   "execution_count": 29,
   "id": "40d30201",
   "metadata": {},
   "outputs": [
    {
     "data": {
      "image/png": "[encoded data removed]",
      "text/plain": [
       "<Figure size 432x288 with 1 Axes>"
      ]
     },
     "metadata": {},
     "output_type": "display_data"
    }
   ],
   "source": [
    "df_curr_application.NAME_CONTRACT_TYPE.mode()\n",
    "plt.pie(df_curr_application['NAME_CONTRACT_TYPE'].value_counts(), labels=[\"Cash loans\",\"Revolving loans\"],radius=2.5,explode=(0, 0.3),autopct='%1.1f%%',colors=['#66b3ff','#00ffaa'],textprops={'fontsize': 20})\n",
    "plt.title(\"Loan Scheme vs Demand\")\n",
    "plt.show()"
   ]
  },
  {
   "cell_type": "markdown",
   "id": "25f9b97b",
   "metadata": {},
   "source": [
    "## Analysis based on Gender of applicant"
   ]
  },
  {
   "cell_type": "code",
   "execution_count": 30,
   "id": "bc97bf66",
   "metadata": {},
   "outputs": [
    {
     "data": {
      "text/plain": [
       "SK_ID_CURR                     10655\n",
       "TARGET                         10655\n",
       "NAME_CONTRACT_TYPE             10655\n",
       "CODE_GENDER                    10655\n",
       "FLAG_OWN_CAR                   10655\n",
       "FLAG_OWN_REALTY                10655\n",
       "CNT_CHILDREN                   10655\n",
       "AMT_INCOME_TOTAL               10655\n",
       "AMT_CREDIT                     10655\n",
       "NAME_INCOME_TYPE               10655\n",
       "NAME_EDUCATION_TYPE            10655\n",
       "NAME_FAMILY_STATUS             10655\n",
       "NAME_HOUSING_TYPE              10655\n",
       "REGION_POPULATION_RELATIVE     10655\n",
       "DAYS_BIRTH                     10655\n",
       "DAYS_EMPLOYED                  10655\n",
       "DAYS_REGISTRATION              10655\n",
       "DAYS_ID_PUBLISH                10655\n",
       "FLAG_MOBIL                     10655\n",
       "FLAG_EMP_PHONE                 10655\n",
       "FLAG_WORK_PHONE                10655\n",
       "FLAG_CONT_MOBILE               10655\n",
       "FLAG_PHONE                     10655\n",
       "FLAG_EMAIL                     10655\n",
       "REGION_RATING_CLIENT           10655\n",
       "REGION_RATING_CLIENT_W_CITY    10655\n",
       "WEEKDAY_APPR_PROCESS_START     10655\n",
       "HOUR_APPR_PROCESS_START        10655\n",
       "REG_REGION_NOT_LIVE_REGION     10655\n",
       "REG_REGION_NOT_WORK_REGION     10655\n",
       "LIVE_REGION_NOT_WORK_REGION    10655\n",
       "REG_CITY_NOT_LIVE_CITY         10655\n",
       "REG_CITY_NOT_WORK_CITY         10655\n",
       "LIVE_CITY_NOT_WORK_CITY        10655\n",
       "ORGANIZATION_TYPE              10655\n",
       "FLAG_DOCUMENT_2                10655\n",
       "FLAG_DOCUMENT_3                10655\n",
       "FLAG_DOCUMENT_4                10655\n",
       "FLAG_DOCUMENT_5                10655\n",
       "FLAG_DOCUMENT_6                10655\n",
       "FLAG_DOCUMENT_7                10655\n",
       "FLAG_DOCUMENT_8                10655\n",
       "FLAG_DOCUMENT_9                10655\n",
       "FLAG_DOCUMENT_10               10655\n",
       "FLAG_DOCUMENT_11               10655\n",
       "FLAG_DOCUMENT_12               10655\n",
       "FLAG_DOCUMENT_13               10655\n",
       "FLAG_DOCUMENT_14               10655\n",
       "FLAG_DOCUMENT_15               10655\n",
       "FLAG_DOCUMENT_16               10655\n",
       "FLAG_DOCUMENT_17               10655\n",
       "FLAG_DOCUMENT_18               10655\n",
       "FLAG_DOCUMENT_19               10655\n",
       "FLAG_DOCUMENT_20               10655\n",
       "FLAG_DOCUMENT_21               10655\n",
       "dtype: int64"
      ]
     },
     "execution_count": 30,
     "metadata": {},
     "output_type": "execute_result"
    }
   ],
   "source": [
    "df_curr_application2['CODE_GENDER'].value_counts()\n",
    "df_curr_application2[(df_curr_application2[\"CODE_GENDER\"] == \"M\") & (df_curr_application2[\"TARGET\"] == 1)].count()\n"
   ]
  },
  {
   "cell_type": "markdown",
   "id": "96a0e46c",
   "metadata": {},
   "source": [
    "<h2>Analysis based on customers residence</h2>\n",
    "<ul><li><i>We can easily observe that <b><font size=3px color=#00ff00>repayment rate</font></b> increases with increase in <b><font color=#ff0000 size=3px>defaulter rate</font></b></i>.</li>\n",
    "<li>Most of the customers live in <b>House/Apartment</b></li>\n",
    "<li>Most of the defaulters also live in <b>House/Apartment</b></li>\n",
    "<li>Rented apartments have higher rate of defaulters as they can always shift(as per the data)</li>\n",
    "</ul>"
   ]
  },
  {
   "cell_type": "code",
   "execution_count": 31,
   "id": "a22dd14f",
   "metadata": {},
   "outputs": [
    {
     "data": {
      "image/png": "[encoded data removed]",
      "text/plain": [
       "<Figure size 1080x360 with 1 Axes>"
      ]
     },
     "metadata": {
      "needs_background": "light"
     },
     "output_type": "display_data"
    }
   ],
   "source": [
    "plt.figure(figsize=(15, 5))\n",
    "sns.countplot(df_curr_application[\"NAME_HOUSING_TYPE\"], hue=df_curr_application[\"TARGET\"],palette=['#00ff00',\"#ff0000\"])\n",
    "plt.xlabel(\"Housing Types\")\n",
    "plt.xticks(rotation=60)\n",
    "plt.tight_layout()\n",
    "plt.title(\"Housing Type VS Target\")\n",
    "plt.show()"
   ]
  },
  {
   "cell_type": "code",
   "execution_count": 32,
   "id": "20ef8315",
   "metadata": {},
   "outputs": [
    {
     "data": {
      "text/html": [
       "<div>\n",
       "<style scoped>\n",
       "    .dataframe tbody tr th:only-of-type {\n",
       "        vertical-align: middle;\n",
       "    }\n",
       "\n",
       "    .dataframe tbody tr th {\n",
       "        vertical-align: top;\n",
       "    }\n",
       "\n",
       "    .dataframe thead th {\n",
       "        text-align: right;\n",
       "    }\n",
       "</style>\n",
       "<table border=\"1\" class=\"dataframe\">\n",
       "  <thead>\n",
       "    <tr style=\"text-align: right;\">\n",
       "      <th></th>\n",
       "      <th>Value</th>\n",
       "      <th>Percentage of Defaulter</th>\n",
       "    </tr>\n",
       "  </thead>\n",
       "  <tbody>\n",
       "    <tr>\n",
       "      <th>1</th>\n",
       "      <td>Rented apartment</td>\n",
       "      <td>12.313051</td>\n",
       "    </tr>\n",
       "    <tr>\n",
       "      <th>2</th>\n",
       "      <td>With parents</td>\n",
       "      <td>11.698113</td>\n",
       "    </tr>\n",
       "    <tr>\n",
       "      <th>3</th>\n",
       "      <td>Municipal apartment</td>\n",
       "      <td>8.539748</td>\n",
       "    </tr>\n",
       "    <tr>\n",
       "      <th>5</th>\n",
       "      <td>Co-op apartment</td>\n",
       "      <td>7.932264</td>\n",
       "    </tr>\n",
       "    <tr>\n",
       "      <th>0</th>\n",
       "      <td>House / apartment</td>\n",
       "      <td>7.795711</td>\n",
       "    </tr>\n",
       "    <tr>\n",
       "      <th>4</th>\n",
       "      <td>Office apartment</td>\n",
       "      <td>6.572411</td>\n",
       "    </tr>\n",
       "  </tbody>\n",
       "</table>\n",
       "</div>"
      ],
      "text/plain": [
       "                 Value  Percentage of Defaulter\n",
       "1     Rented apartment                12.313051\n",
       "2         With parents                11.698113\n",
       "3  Municipal apartment                 8.539748\n",
       "5      Co-op apartment                 7.932264\n",
       "0    House / apartment                 7.795711\n",
       "4     Office apartment                 6.572411"
      ]
     },
     "execution_count": 32,
     "metadata": {},
     "output_type": "execute_result"
    }
   ],
   "source": [
    "new_df = pd.DataFrame(columns=['Value', 'Percentage of Defaulter'])\n",
    "for value in df_curr_application2['NAME_HOUSING_TYPE'].unique():\n",
    "    default_cnt = df_curr_application2[(df_curr_application2['NAME_HOUSING_TYPE'] == value) & (df_curr_application2.TARGET == 1)].shape[0]\n",
    "    total_cnt = df_curr_application2[df_curr_application2['NAME_HOUSING_TYPE'] == value].shape[0]\n",
    "    new_df = new_df.append({'Value' : value , 'Percentage of Defaulter' : (default_cnt*100/total_cnt)}, ignore_index=True)\n",
    "new_df.sort_values(by='Percentage of Defaulter', ascending=False)"
   ]
  },
  {
   "cell_type": "markdown",
   "id": "77f7e4b5",
   "metadata": {},
   "source": [
    "<h2>Analysis based on customers region</h2>\n",
    "<ul><li><i>We can easily observe that <b><font size=3px color=#1e81b0>defaulter rate</font></b> increases when: <ol><li>Current region is same as working region.</li><li>Current city is same as city in which client is living in.</li><li>Current city is same as city in which client is working in.</li></ol></li>\n",
    "    <br>\n",
    "<li>Most of the customers live in Region rated <b>2nd</b> among 3 regions.</li>\n",
    "<li>Defaulters are the most in <b>region 2</b> then they decrease in <b>region 3</b> and least are in <b>region 1</b>.</li>\n",
    "<li>Increase in defaulters per region is natural because the number of customers also increases.</li>\n",
    "</ul>"
   ]
  },
  {
   "cell_type": "code",
   "execution_count": 33,
   "id": "0e28b526",
   "metadata": {},
   "outputs": [
    {
     "data": {
      "image/png": "[encoded data removed]",
      "text/plain": [
       "<Figure size 864x360 with 5 Axes>"
      ]
     },
     "metadata": {
      "needs_background": "light"
     },
     "output_type": "display_data"
    }
   ],
   "source": [
    "fig=plt.subplots(figsize=(12, 5))\n",
    "\n",
    "for i, j in enumerate(['REG_REGION_NOT_WORK_REGION','REG_CITY_NOT_LIVE_CITY', 'REG_CITY_NOT_WORK_CITY','REGION_RATING_CLIENT', 'REGION_RATING_CLIENT_W_CITY']):\n",
    "    plt.subplot(2, 3, i+1, ylim=(0, 250000))\n",
    "    sns.countplot(df_curr_application2[j], hue=df_curr_application2[\"TARGET\"],palette=['#00ff00',\"#ff0000\"])\n",
    "    plt.tight_layout()"
   ]
  },
  {
   "cell_type": "markdown",
   "id": "7e26b6de",
   "metadata": {},
   "source": [
    "<h2>Analysis based on documents submitted by the customer</h2>\n",
    "<ul><li><i>We can easily observe that <b>Most</b> of the documents have same trend <b>excluding FLAG_DOCUMENT_3</b></i></li>\n",
    "<li><i>Cutomers who have submitted the documents <b>5,6,8,9,16 and 18</b> are less likely to default as per the trend.</li></i>\n",
    "</ul>"
   ]
  },
  {
   "cell_type": "code",
   "execution_count": 34,
   "id": "cdabc225",
   "metadata": {},
   "outputs": [
    {
     "data": {
      "image/png": "[encoded data removed]",
      "text/plain": [
       "<Figure size 1440x2160 with 20 Axes>"
      ]
     },
     "metadata": {
      "needs_background": "light"
     },
     "output_type": "display_data"
    }
   ],
   "source": [
    "fig=plt.subplots(figsize=(20, 30))\n",
    "sns.set(font_scale = 2)\n",
    "for i, j in enumerate(['FLAG_DOCUMENT_2','FLAG_DOCUMENT_3','FLAG_DOCUMENT_4','FLAG_DOCUMENT_5','FLAG_DOCUMENT_6','FLAG_DOCUMENT_7','FLAG_DOCUMENT_8','FLAG_DOCUMENT_9','FLAG_DOCUMENT_10','FLAG_DOCUMENT_11','FLAG_DOCUMENT_12','FLAG_DOCUMENT_13','FLAG_DOCUMENT_14','FLAG_DOCUMENT_15','FLAG_DOCUMENT_16','FLAG_DOCUMENT_17','FLAG_DOCUMENT_18','FLAG_DOCUMENT_19','FLAG_DOCUMENT_20','FLAG_DOCUMENT_21']):\n",
    "    plt.subplot(5, 4, i+1, ylim=(0, 250000))\n",
    "    sns.countplot(df_curr_application2[j], hue=df_curr_application2[\"TARGET\"],palette=['#00ff00',\"#ff0000\"])\n",
    "    plt.tight_layout()\n",
    "    plt.yticks(size=15)\n",
    "    plt.xticks(size=15)"
   ]
  },
  {
   "cell_type": "code",
   "execution_count": 35,
   "id": "885eec67",
   "metadata": {},
   "outputs": [],
   "source": [
    "sns.set(font_scale = 1)"
   ]
  },
  {
   "cell_type": "markdown",
   "id": "a20dca90",
   "metadata": {},
   "source": [
    "<h2>Analysis based on customers contact details</h2>\n",
    "<ul><li><i>We can easily observe that <b>defaulters</b> have'nt provided: <ol>\n",
    "    <li>Their Email address(es).</li>\n",
    "    <li>Their Home phone.</li>\n",
    "    </ol></li>\n",
    "    <br>\n",
    "<li><b>FLAG_PHONE</b> and <b>FLAG_WORK_PHONE</b> are identical hence either can be dropped.</li>\n",
    "</ul>"
   ]
  },
  {
   "cell_type": "code",
   "execution_count": 36,
   "id": "3049def6",
   "metadata": {},
   "outputs": [
    {
     "name": "stdout",
     "output_type": "stream",
     "text": [
      "<class 'pandas.core.frame.DataFrame'>\n",
      "RangeIndex: 307511 entries, 0 to 307510\n",
      "Data columns (total 6 columns):\n",
      " #   Column            Non-Null Count   Dtype\n",
      "---  ------            --------------   -----\n",
      " 0   FLAG_MOBIL        307511 non-null  Int64\n",
      " 1   FLAG_EMP_PHONE    307511 non-null  Int64\n",
      " 2   FLAG_WORK_PHONE   307511 non-null  Int64\n",
      " 3   FLAG_CONT_MOBILE  307511 non-null  Int64\n",
      " 4   FLAG_PHONE        307511 non-null  Int64\n",
      " 5   FLAG_EMAIL        307511 non-null  Int64\n",
      "dtypes: Int64(6)\n",
      "memory usage: 15.8 MB\n"
     ]
    }
   ],
   "source": [
    "df_contact_detes = df_curr_application2[['FLAG_MOBIL','FLAG_EMP_PHONE','FLAG_WORK_PHONE','FLAG_CONT_MOBILE','FLAG_PHONE','FLAG_EMAIL']]\n",
    "df_contact_detes.info(-1)"
   ]
  },
  {
   "cell_type": "code",
   "execution_count": 37,
   "id": "70b059ad",
   "metadata": {
    "scrolled": true
   },
   "outputs": [
    {
     "data": {
      "image/png": "[encoded data removed]",
      "text/plain": [
       "<Figure size 864x360 with 6 Axes>"
      ]
     },
     "metadata": {},
     "output_type": "display_data"
    }
   ],
   "source": [
    "fig=plt.subplots(figsize=(12, 5))\n",
    "\n",
    "for i, j in enumerate(df_contact_detes):\n",
    "    plt.subplot(2, 3, i+1)\n",
    "    sns.countplot(df_curr_application2[j], hue=df_curr_application2[\"TARGET\"],palette=['#00ff00',\"#ff0000\"])\n",
    "    plt.tight_layout()"
   ]
  },
  {
   "cell_type": "markdown",
   "id": "1982c94b",
   "metadata": {},
   "source": [
    "<h2>Analysis based on customers asset details/value</h2>\n",
    "<ul>\n",
    "    <li><i>We can easily observe that defaulters typically don't own a <b>car</b>.</i></li>\n",
    "    <li><i>Also notice that most of the customers own a <b>realty</b> as per the trend.</i></li>\n",
    "    <li><i>People not having a <b>realty</b> and <b>car</b> and have higher chances of default than the people who own <b>realty</b> and <b>car</b></i></li>\n",
    "    <li>Defaulter or not, most applicants have car age between 0-25 years.</li>\n",
    "</ul>"
   ]
  },
  {
   "cell_type": "code",
   "execution_count": 38,
   "id": "dbce3824",
   "metadata": {},
   "outputs": [
    {
     "name": "stdout",
     "output_type": "stream",
     "text": [
      "<class 'pandas.core.frame.DataFrame'>\n",
      "RangeIndex: 307511 entries, 0 to 307510\n",
      "Data columns (total 4 columns):\n",
      " #   Column           Non-Null Count   Dtype \n",
      "---  ------           --------------   ----- \n",
      " 0   FLAG_OWN_CAR     307511 non-null  string\n",
      " 1   FLAG_OWN_REALTY  307511 non-null  string\n",
      " 2   OWN_CAR_AGE      104582 non-null  Int64 \n",
      " 3   TARGET           307511 non-null  Int64 \n",
      "dtypes: Int64(2), string(2)\n",
      "memory usage: 10.0 MB\n"
     ]
    }
   ],
   "source": [
    "df_asset_detes = df_curr_application[['FLAG_OWN_CAR', 'FLAG_OWN_REALTY', 'OWN_CAR_AGE', 'TARGET']].info(-1)"
   ]
  },
  {
   "cell_type": "markdown",
   "id": "56baea35",
   "metadata": {},
   "source": [
    "<h2>The function value_defaulter_percentage will take df and names of columns and output the name of column and percentage of values where TARGET is 1</h2>"
   ]
  },
  {
   "cell_type": "code",
   "execution_count": 39,
   "id": "2eab1f0e",
   "metadata": {},
   "outputs": [],
   "source": [
    "def value_defaulter_percentage(df, col):\n",
    "    new_df = pd.DataFrame(columns=['Value', 'Percentage of Defaulter'])\n",
    "    \n",
    "    for value in df[col].unique():\n",
    "        default_cnt = df[(df[col] == value) & (df.TARGET == 1)].shape[0]\n",
    "        total_cnt = df[df[col] == value].shape[0]\n",
    "        new_df = new_df.append({'Value' : value , 'Percentage of Defaulter' : (default_cnt*100/total_cnt)}, ignore_index=True)\n",
    "    return new_df.sort_values(by='Percentage of Defaulter', ascending=False)"
   ]
  },
  {
   "cell_type": "code",
   "execution_count": 40,
   "id": "ddef35c1",
   "metadata": {},
   "outputs": [
    {
     "data": {
      "text/html": [
       "<div>\n",
       "<style scoped>\n",
       "    .dataframe tbody tr th:only-of-type {\n",
       "        vertical-align: middle;\n",
       "    }\n",
       "\n",
       "    .dataframe tbody tr th {\n",
       "        vertical-align: top;\n",
       "    }\n",
       "\n",
       "    .dataframe thead th {\n",
       "        text-align: right;\n",
       "    }\n",
       "</style>\n",
       "<table border=\"1\" class=\"dataframe\">\n",
       "  <thead>\n",
       "    <tr style=\"text-align: right;\">\n",
       "      <th></th>\n",
       "      <th>Value</th>\n",
       "      <th>Percentage of Defaulter</th>\n",
       "    </tr>\n",
       "  </thead>\n",
       "  <tbody>\n",
       "    <tr>\n",
       "      <th>0</th>\n",
       "      <td>N</td>\n",
       "      <td>8.500227</td>\n",
       "    </tr>\n",
       "    <tr>\n",
       "      <th>1</th>\n",
       "      <td>Y</td>\n",
       "      <td>7.243730</td>\n",
       "    </tr>\n",
       "  </tbody>\n",
       "</table>\n",
       "</div>"
      ],
      "text/plain": [
       "  Value  Percentage of Defaulter\n",
       "0     N                 8.500227\n",
       "1     Y                 7.243730"
      ]
     },
     "execution_count": 40,
     "metadata": {},
     "output_type": "execute_result"
    }
   ],
   "source": [
    "value_defaulter_percentage(df_curr_application, 'FLAG_OWN_CAR')"
   ]
  },
  {
   "cell_type": "code",
   "execution_count": 41,
   "id": "70d0d19a",
   "metadata": {},
   "outputs": [
    {
     "data": {
      "text/html": [
       "<div>\n",
       "<style scoped>\n",
       "    .dataframe tbody tr th:only-of-type {\n",
       "        vertical-align: middle;\n",
       "    }\n",
       "\n",
       "    .dataframe tbody tr th {\n",
       "        vertical-align: top;\n",
       "    }\n",
       "\n",
       "    .dataframe thead th {\n",
       "        text-align: right;\n",
       "    }\n",
       "</style>\n",
       "<table border=\"1\" class=\"dataframe\">\n",
       "  <thead>\n",
       "    <tr style=\"text-align: right;\">\n",
       "      <th></th>\n",
       "      <th>Value</th>\n",
       "      <th>Percentage of Defaulter</th>\n",
       "    </tr>\n",
       "  </thead>\n",
       "  <tbody>\n",
       "    <tr>\n",
       "      <th>1</th>\n",
       "      <td>N</td>\n",
       "      <td>8.324929</td>\n",
       "    </tr>\n",
       "    <tr>\n",
       "      <th>0</th>\n",
       "      <td>Y</td>\n",
       "      <td>7.961577</td>\n",
       "    </tr>\n",
       "  </tbody>\n",
       "</table>\n",
       "</div>"
      ],
      "text/plain": [
       "  Value  Percentage of Defaulter\n",
       "1     N                 8.324929\n",
       "0     Y                 7.961577"
      ]
     },
     "execution_count": 41,
     "metadata": {},
     "output_type": "execute_result"
    }
   ],
   "source": [
    "value_defaulter_percentage(df_curr_application, 'FLAG_OWN_REALTY')"
   ]
  },
  {
   "cell_type": "code",
   "execution_count": 42,
   "id": "9dc503d5",
   "metadata": {},
   "outputs": [
    {
     "data": {
      "image/png": "[encoded data removed]",
      "text/plain": [
       "<Figure size 720x360 with 2 Axes>"
      ]
     },
     "metadata": {},
     "output_type": "display_data"
    }
   ],
   "source": [
    "fig = plt.figure(figsize=(10, 5))\n",
    "axis1 = fig.add_subplot(1, 2, 1, ylim=(0,200000))\n",
    "axis2 = fig.add_subplot(1, 2, 2, ylim=(0,200000))\n",
    "sns.countplot(df_curr_application['FLAG_OWN_CAR'], hue=df_curr_application['TARGET'], order=['Y','N'], ax=axis1,palette=['#00ff00',\"#ff0000\"])\n",
    "sns.countplot(df_curr_application['FLAG_OWN_REALTY'], hue=df_curr_application['TARGET'], order=['Y','N'], ax=axis2,palette=['#00ff00',\"#ff0000\"])\n",
    "plt.tight_layout()\n",
    "plt.show()"
   ]
  },
  {
   "cell_type": "code",
   "execution_count": 43,
   "id": "7953b136",
   "metadata": {},
   "outputs": [
    {
     "data": {
      "image/png": "[encoded data removed]",
      "text/plain": [
       "<Figure size 720x360 with 2 Axes>"
      ]
     },
     "metadata": {},
     "output_type": "display_data"
    }
   ],
   "source": [
    "fig = plt.figure(figsize=(10, 5))\n",
    "axis1 = fig.add_subplot(1, 2, 1, ylim=(0,60000), title=\"Non-Defaulter customer\")\n",
    "axis2 = fig.add_subplot(1, 2, 2, ylim=(0,60000), title=\"Defaulter customer\")\n",
    "df_curr_application[df_curr_application[\"TARGET\"] == 0].OWN_CAR_AGE.hist(bins=10, ax=axis1)\n",
    "df_curr_application[df_curr_application[\"TARGET\"] == 1].OWN_CAR_AGE.hist(bins=10, ax=axis2)\n",
    "plt.tight_layout()\n",
    "plt.show()"
   ]
  },
  {
   "cell_type": "markdown",
   "id": "abdf7a7d",
   "metadata": {},
   "source": [
    "<h2>Analysis on basis of Family Related Info</h2>\n",
    "<ul>\n",
    "    <li><i>Defaulters are generally under category <b>Civil Marriage</b> and <b>Single applicants</b>.</i></li>\n",
    "    <li><i>Most of the defaulters are having <b>1-4</b> family members.</i></li>\n",
    "    <li><i>Most of the defaulters are having <b>0-2</b> childrens.</i></li>\n",
    "    <li><i>Customers having <b>9</b> or <b>11</b> children can be suspected as outliers in the df.</i></li>\n",
    "    <li><i>Customers having <b>11</b> or <b>13</b> members can be suspected as outliers in the df.</i></li>\n",
    "    <li><i>Most of the defaulters were <b>unacompanied</b> during Loan screening process.</i></li>\n",
    "</ul>"
   ]
  },
  {
   "cell_type": "markdown",
   "id": "fcffcf04",
   "metadata": {},
   "source": [
    "<i>Searching for null values:</i>"
   ]
  },
  {
   "cell_type": "code",
   "execution_count": 44,
   "id": "3b53a781",
   "metadata": {},
   "outputs": [
    {
     "data": {
      "text/plain": [
       "CNT_CHILDREN          0\n",
       "CNT_FAM_MEMBERS       2\n",
       "NAME_FAMILY_STATUS    0\n",
       "dtype: int64"
      ]
     },
     "execution_count": 44,
     "metadata": {},
     "output_type": "execute_result"
    }
   ],
   "source": [
    "df_curr_application[['CNT_CHILDREN', 'CNT_FAM_MEMBERS', 'NAME_FAMILY_STATUS']].isnull().sum()"
   ]
  },
  {
   "cell_type": "markdown",
   "id": "be93bd7f",
   "metadata": {},
   "source": [
    "<i>Removing null value <b>CNT_FAM_MEMBERS</b> by removing the whole row:</i>"
   ]
  },
  {
   "cell_type": "code",
   "execution_count": 45,
   "id": "5cd51451",
   "metadata": {},
   "outputs": [
    {
     "data": {
      "text/plain": [
       "CNT_CHILDREN          0\n",
       "CNT_FAM_MEMBERS       0\n",
       "NAME_FAMILY_STATUS    0\n",
       "dtype: int64"
      ]
     },
     "execution_count": 45,
     "metadata": {},
     "output_type": "execute_result"
    }
   ],
   "source": [
    "df_curr_application3 = df_curr_application.dropna(subset=['CNT_FAM_MEMBERS']) \n",
    "df_curr_application3[['CNT_CHILDREN', 'CNT_FAM_MEMBERS', 'NAME_FAMILY_STATUS']].isnull().sum()"
   ]
  },
  {
   "cell_type": "markdown",
   "id": "c70304e7",
   "metadata": {},
   "source": [
    "<i>Family member cannot have fraction, hence converting coloumn <b>CNT_FAM_MEMBERS</b> to Integer:</i>"
   ]
  },
  {
   "cell_type": "code",
   "execution_count": 46,
   "id": "1014ade2",
   "metadata": {},
   "outputs": [],
   "source": [
    "df_curr_application3['CNT_FAM_MEMBERS'] = df_curr_application3['CNT_FAM_MEMBERS'].astype(int)"
   ]
  },
  {
   "cell_type": "code",
   "execution_count": 47,
   "id": "c13dd0f1",
   "metadata": {},
   "outputs": [
    {
     "data": {
      "image/png": "[encoded data removed]",
      "text/plain": [
       "<Figure size 864x1080 with 3 Axes>"
      ]
     },
     "metadata": {},
     "output_type": "display_data"
    }
   ],
   "source": [
    "fig=plt.subplots(figsize=(12, 15))\n",
    "\n",
    "for i, j in enumerate(['CNT_CHILDREN','CNT_FAM_MEMBERS', 'NAME_FAMILY_STATUS']):\n",
    "    plt.subplot(3, 3, i+1, ylim=(0, 200000))\n",
    "    plt.subplots_adjust(hspace = 1.0)\n",
    "    sns.countplot(df_curr_application3[j], hue=df_curr_application3[\"TARGET\"],palette=['#00ff00',\"#ff0000\"])\n",
    "    plt.xticks(rotation=90)\n",
    "    plt.tight_layout()"
   ]
  },
  {
   "cell_type": "code",
   "execution_count": 48,
   "id": "49916740",
   "metadata": {},
   "outputs": [
    {
     "data": {
      "text/html": [
       "<div>\n",
       "<style scoped>\n",
       "    .dataframe tbody tr th:only-of-type {\n",
       "        vertical-align: middle;\n",
       "    }\n",
       "\n",
       "    .dataframe tbody tr th {\n",
       "        vertical-align: top;\n",
       "    }\n",
       "\n",
       "    .dataframe thead th {\n",
       "        text-align: right;\n",
       "    }\n",
       "</style>\n",
       "<table border=\"1\" class=\"dataframe\">\n",
       "  <thead>\n",
       "    <tr style=\"text-align: right;\">\n",
       "      <th></th>\n",
       "      <th>Value</th>\n",
       "      <th>Percentage of Defaulter</th>\n",
       "    </tr>\n",
       "  </thead>\n",
       "  <tbody>\n",
       "    <tr>\n",
       "      <th>2</th>\n",
       "      <td>Civil marriage</td>\n",
       "      <td>9.944584</td>\n",
       "    </tr>\n",
       "    <tr>\n",
       "      <th>0</th>\n",
       "      <td>Single / not married</td>\n",
       "      <td>9.807675</td>\n",
       "    </tr>\n",
       "    <tr>\n",
       "      <th>4</th>\n",
       "      <td>Separated</td>\n",
       "      <td>8.194234</td>\n",
       "    </tr>\n",
       "    <tr>\n",
       "      <th>1</th>\n",
       "      <td>Married</td>\n",
       "      <td>7.559868</td>\n",
       "    </tr>\n",
       "    <tr>\n",
       "      <th>3</th>\n",
       "      <td>Widow</td>\n",
       "      <td>5.824217</td>\n",
       "    </tr>\n",
       "  </tbody>\n",
       "</table>\n",
       "</div>"
      ],
      "text/plain": [
       "                  Value  Percentage of Defaulter\n",
       "2        Civil marriage                 9.944584\n",
       "0  Single / not married                 9.807675\n",
       "4             Separated                 8.194234\n",
       "1               Married                 7.559868\n",
       "3                 Widow                 5.824217"
      ]
     },
     "execution_count": 48,
     "metadata": {},
     "output_type": "execute_result"
    }
   ],
   "source": [
    "value_defaulter_percentage(df_curr_application3, 'NAME_FAMILY_STATUS')"
   ]
  },
  {
   "cell_type": "code",
   "execution_count": 49,
   "id": "de10899f",
   "metadata": {},
   "outputs": [
    {
     "data": {
      "text/html": [
       "<div>\n",
       "<style scoped>\n",
       "    .dataframe tbody tr th:only-of-type {\n",
       "        vertical-align: middle;\n",
       "    }\n",
       "\n",
       "    .dataframe tbody tr th {\n",
       "        vertical-align: top;\n",
       "    }\n",
       "\n",
       "    .dataframe thead th {\n",
       "        text-align: right;\n",
       "    }\n",
       "</style>\n",
       "<table border=\"1\" class=\"dataframe\">\n",
       "  <thead>\n",
       "    <tr style=\"text-align: right;\">\n",
       "      <th></th>\n",
       "      <th>Value</th>\n",
       "      <th>Percentage of Defaulter</th>\n",
       "    </tr>\n",
       "  </thead>\n",
       "  <tbody>\n",
       "    <tr>\n",
       "      <th>10</th>\n",
       "      <td>11.0</td>\n",
       "      <td>100.000000</td>\n",
       "    </tr>\n",
       "    <tr>\n",
       "      <th>9</th>\n",
       "      <td>9.0</td>\n",
       "      <td>100.000000</td>\n",
       "    </tr>\n",
       "    <tr>\n",
       "      <th>7</th>\n",
       "      <td>6.0</td>\n",
       "      <td>28.571429</td>\n",
       "    </tr>\n",
       "    <tr>\n",
       "      <th>4</th>\n",
       "      <td>4.0</td>\n",
       "      <td>12.820513</td>\n",
       "    </tr>\n",
       "    <tr>\n",
       "      <th>3</th>\n",
       "      <td>3.0</td>\n",
       "      <td>9.631423</td>\n",
       "    </tr>\n",
       "    <tr>\n",
       "      <th>1</th>\n",
       "      <td>1.0</td>\n",
       "      <td>8.923575</td>\n",
       "    </tr>\n",
       "    <tr>\n",
       "      <th>2</th>\n",
       "      <td>2.0</td>\n",
       "      <td>8.721821</td>\n",
       "    </tr>\n",
       "    <tr>\n",
       "      <th>6</th>\n",
       "      <td>5.0</td>\n",
       "      <td>8.333333</td>\n",
       "    </tr>\n",
       "    <tr>\n",
       "      <th>0</th>\n",
       "      <td>0.0</td>\n",
       "      <td>7.711881</td>\n",
       "    </tr>\n",
       "    <tr>\n",
       "      <th>13</th>\n",
       "      <td>19.0</td>\n",
       "      <td>0.000000</td>\n",
       "    </tr>\n",
       "    <tr>\n",
       "      <th>14</th>\n",
       "      <td>14.0</td>\n",
       "      <td>0.000000</td>\n",
       "    </tr>\n",
       "    <tr>\n",
       "      <th>11</th>\n",
       "      <td>12.0</td>\n",
       "      <td>0.000000</td>\n",
       "    </tr>\n",
       "    <tr>\n",
       "      <th>12</th>\n",
       "      <td>10.0</td>\n",
       "      <td>0.000000</td>\n",
       "    </tr>\n",
       "    <tr>\n",
       "      <th>8</th>\n",
       "      <td>8.0</td>\n",
       "      <td>0.000000</td>\n",
       "    </tr>\n",
       "    <tr>\n",
       "      <th>5</th>\n",
       "      <td>7.0</td>\n",
       "      <td>0.000000</td>\n",
       "    </tr>\n",
       "  </tbody>\n",
       "</table>\n",
       "</div>"
      ],
      "text/plain": [
       "    Value  Percentage of Defaulter\n",
       "10   11.0               100.000000\n",
       "9     9.0               100.000000\n",
       "7     6.0                28.571429\n",
       "4     4.0                12.820513\n",
       "3     3.0                 9.631423\n",
       "1     1.0                 8.923575\n",
       "2     2.0                 8.721821\n",
       "6     5.0                 8.333333\n",
       "0     0.0                 7.711881\n",
       "13   19.0                 0.000000\n",
       "14   14.0                 0.000000\n",
       "11   12.0                 0.000000\n",
       "12   10.0                 0.000000\n",
       "8     8.0                 0.000000\n",
       "5     7.0                 0.000000"
      ]
     },
     "execution_count": 49,
     "metadata": {},
     "output_type": "execute_result"
    }
   ],
   "source": [
    "value_defaulter_percentage(df_curr_application3, 'CNT_CHILDREN').sort_values(by=['Percentage of Defaulter','Value'], ascending=False)"
   ]
  },
  {
   "cell_type": "code",
   "execution_count": 50,
   "id": "cb8b5048",
   "metadata": {},
   "outputs": [
    {
     "data": {
      "text/plain": [
       "0     215369\n",
       "1      61119\n",
       "2      26749\n",
       "3       3717\n",
       "4        429\n",
       "5         84\n",
       "6         21\n",
       "7          7\n",
       "14         3\n",
       "8          2\n",
       "9          2\n",
       "12         2\n",
       "10         2\n",
       "19         2\n",
       "11         1\n",
       "Name: CNT_CHILDREN, dtype: Int64"
      ]
     },
     "execution_count": 50,
     "metadata": {},
     "output_type": "execute_result"
    }
   ],
   "source": [
    "df_curr_application3.CNT_CHILDREN.value_counts()"
   ]
  },
  {
   "cell_type": "code",
   "execution_count": 51,
   "id": "3aaf1b25",
   "metadata": {},
   "outputs": [
    {
     "data": {
      "text/html": [
       "<div>\n",
       "<style scoped>\n",
       "    .dataframe tbody tr th:only-of-type {\n",
       "        vertical-align: middle;\n",
       "    }\n",
       "\n",
       "    .dataframe tbody tr th {\n",
       "        vertical-align: top;\n",
       "    }\n",
       "\n",
       "    .dataframe thead th {\n",
       "        text-align: right;\n",
       "    }\n",
       "</style>\n",
       "<table border=\"1\" class=\"dataframe\">\n",
       "  <thead>\n",
       "    <tr style=\"text-align: right;\">\n",
       "      <th></th>\n",
       "      <th>Value</th>\n",
       "      <th>Percentage of Defaulter</th>\n",
       "    </tr>\n",
       "  </thead>\n",
       "  <tbody>\n",
       "    <tr>\n",
       "      <th>10</th>\n",
       "      <td>13.0</td>\n",
       "      <td>100.000000</td>\n",
       "    </tr>\n",
       "    <tr>\n",
       "      <th>16</th>\n",
       "      <td>11.0</td>\n",
       "      <td>100.000000</td>\n",
       "    </tr>\n",
       "    <tr>\n",
       "      <th>9</th>\n",
       "      <td>10.0</td>\n",
       "      <td>33.333333</td>\n",
       "    </tr>\n",
       "    <tr>\n",
       "      <th>8</th>\n",
       "      <td>8.0</td>\n",
       "      <td>30.000000</td>\n",
       "    </tr>\n",
       "    <tr>\n",
       "      <th>5</th>\n",
       "      <td>6.0</td>\n",
       "      <td>13.480392</td>\n",
       "    </tr>\n",
       "    <tr>\n",
       "      <th>4</th>\n",
       "      <td>5.0</td>\n",
       "      <td>9.401955</td>\n",
       "    </tr>\n",
       "    <tr>\n",
       "      <th>2</th>\n",
       "      <td>3.0</td>\n",
       "      <td>8.760290</td>\n",
       "    </tr>\n",
       "    <tr>\n",
       "      <th>3</th>\n",
       "      <td>4.0</td>\n",
       "      <td>8.648824</td>\n",
       "    </tr>\n",
       "    <tr>\n",
       "      <th>0</th>\n",
       "      <td>1.0</td>\n",
       "      <td>8.364408</td>\n",
       "    </tr>\n",
       "    <tr>\n",
       "      <th>1</th>\n",
       "      <td>2.0</td>\n",
       "      <td>7.583498</td>\n",
       "    </tr>\n",
       "    <tr>\n",
       "      <th>7</th>\n",
       "      <td>7.0</td>\n",
       "      <td>7.407407</td>\n",
       "    </tr>\n",
       "    <tr>\n",
       "      <th>13</th>\n",
       "      <td>20.0</td>\n",
       "      <td>0.000000</td>\n",
       "    </tr>\n",
       "    <tr>\n",
       "      <th>15</th>\n",
       "      <td>16.0</td>\n",
       "      <td>0.000000</td>\n",
       "    </tr>\n",
       "    <tr>\n",
       "      <th>14</th>\n",
       "      <td>15.0</td>\n",
       "      <td>0.000000</td>\n",
       "    </tr>\n",
       "    <tr>\n",
       "      <th>11</th>\n",
       "      <td>14.0</td>\n",
       "      <td>0.000000</td>\n",
       "    </tr>\n",
       "    <tr>\n",
       "      <th>12</th>\n",
       "      <td>12.0</td>\n",
       "      <td>0.000000</td>\n",
       "    </tr>\n",
       "    <tr>\n",
       "      <th>6</th>\n",
       "      <td>9.0</td>\n",
       "      <td>0.000000</td>\n",
       "    </tr>\n",
       "  </tbody>\n",
       "</table>\n",
       "</div>"
      ],
      "text/plain": [
       "    Value  Percentage of Defaulter\n",
       "10   13.0               100.000000\n",
       "16   11.0               100.000000\n",
       "9    10.0                33.333333\n",
       "8     8.0                30.000000\n",
       "5     6.0                13.480392\n",
       "4     5.0                 9.401955\n",
       "2     3.0                 8.760290\n",
       "3     4.0                 8.648824\n",
       "0     1.0                 8.364408\n",
       "1     2.0                 7.583498\n",
       "7     7.0                 7.407407\n",
       "13   20.0                 0.000000\n",
       "15   16.0                 0.000000\n",
       "14   15.0                 0.000000\n",
       "11   14.0                 0.000000\n",
       "12   12.0                 0.000000\n",
       "6     9.0                 0.000000"
      ]
     },
     "execution_count": 51,
     "metadata": {},
     "output_type": "execute_result"
    }
   ],
   "source": [
    "value_defaulter_percentage(df_curr_application3, 'CNT_FAM_MEMBERS').sort_values(by=['Percentage of Defaulter','Value'], ascending=False)"
   ]
  },
  {
   "cell_type": "code",
   "execution_count": 52,
   "id": "8129d58a",
   "metadata": {},
   "outputs": [
    {
     "data": {
      "text/plain": [
       "2     158357\n",
       "1      67847\n",
       "3      52601\n",
       "4      24697\n",
       "5       3478\n",
       "6        408\n",
       "7         81\n",
       "8         20\n",
       "9          6\n",
       "10         3\n",
       "14         2\n",
       "12         2\n",
       "20         2\n",
       "16         2\n",
       "13         1\n",
       "15         1\n",
       "11         1\n",
       "Name: CNT_FAM_MEMBERS, dtype: int64"
      ]
     },
     "execution_count": 52,
     "metadata": {},
     "output_type": "execute_result"
    }
   ],
   "source": [
    "df_curr_application3.CNT_FAM_MEMBERS.value_counts()"
   ]
  },
  {
   "cell_type": "code",
   "execution_count": 53,
   "id": "f84ac5b7",
   "metadata": {},
   "outputs": [
    {
     "data": {
      "image/png": "[encoded data removed]",
      "text/plain": [
       "<Figure size 864x360 with 1 Axes>"
      ]
     },
     "metadata": {},
     "output_type": "display_data"
    }
   ],
   "source": [
    "fig=plt.subplots(figsize=(12,5))\n",
    "for i, j in enumerate(['NAME_TYPE_SUITE']):\n",
    "    plt.subplot(1, 1, i+1)\n",
    "    sns.countplot(df_curr_application[j], hue=df_curr_application[\"TARGET\"],palette=['#00ff00',\"#ff0000\"])\n",
    "    plt.tight_layout()"
   ]
  },
  {
   "cell_type": "markdown",
   "id": "435c397a",
   "metadata": {},
   "source": [
    "<h2>Analysis on basis of Education and Occupation Info</h2>\n",
    "<ul>\n",
    "    <li><i>Defaulters are generally <b>Unemployed</b> or in <b>Maternity leave</b>.</i></li>\n",
    "    <li><i>Most of the customers are <b>Working</b>.</i></li>\n",
    "    <li><i>Most of the customers have not completed their <b>Higher</b> education.</i></li>\n",
    "    <li><i>Most of the working defaulters are working as <b>Low-skilled labourers</b>.</i></li>\n",
    "</ul>"
   ]
  },
  {
   "cell_type": "code",
   "execution_count": 54,
   "id": "ed8fa162",
   "metadata": {},
   "outputs": [
    {
     "data": {
      "text/plain": [
       "<Figure size 432x288 with 0 Axes>"
      ]
     },
     "metadata": {},
     "output_type": "display_data"
    },
    {
     "data": {
      "image/png": "[encoded data removed]",
      "text/plain": [
       "<Figure size 864x360 with 1 Axes>"
      ]
     },
     "metadata": {},
     "output_type": "display_data"
    }
   ],
   "source": [
    "plt.figure()\n",
    "fig=plt.subplots(figsize=(12,5))\n",
    "sns.countplot(df_curr_application2['NAME_INCOME_TYPE'], hue=df_curr_application2[\"TARGET\"], palette=['#00ff00',\"#ff0000\"])\n",
    "plt.title(\"Income Type vs. Target\")\n",
    "plt.show()"
   ]
  },
  {
   "cell_type": "code",
   "execution_count": 55,
   "id": "6ea19833",
   "metadata": {},
   "outputs": [
    {
     "data": {
      "text/html": [
       "<div>\n",
       "<style scoped>\n",
       "    .dataframe tbody tr th:only-of-type {\n",
       "        vertical-align: middle;\n",
       "    }\n",
       "\n",
       "    .dataframe tbody tr th {\n",
       "        vertical-align: top;\n",
       "    }\n",
       "\n",
       "    .dataframe thead th {\n",
       "        text-align: right;\n",
       "    }\n",
       "</style>\n",
       "<table border=\"1\" class=\"dataframe\">\n",
       "  <thead>\n",
       "    <tr style=\"text-align: right;\">\n",
       "      <th></th>\n",
       "      <th>Value</th>\n",
       "      <th>Percentage of Defaulter</th>\n",
       "    </tr>\n",
       "  </thead>\n",
       "  <tbody>\n",
       "    <tr>\n",
       "      <th>7</th>\n",
       "      <td>Maternity leave</td>\n",
       "      <td>40.000000</td>\n",
       "    </tr>\n",
       "    <tr>\n",
       "      <th>4</th>\n",
       "      <td>Unemployed</td>\n",
       "      <td>36.363636</td>\n",
       "    </tr>\n",
       "    <tr>\n",
       "      <th>0</th>\n",
       "      <td>Working</td>\n",
       "      <td>9.588472</td>\n",
       "    </tr>\n",
       "    <tr>\n",
       "      <th>2</th>\n",
       "      <td>Commercial associate</td>\n",
       "      <td>7.484257</td>\n",
       "    </tr>\n",
       "    <tr>\n",
       "      <th>1</th>\n",
       "      <td>State servant</td>\n",
       "      <td>5.754965</td>\n",
       "    </tr>\n",
       "    <tr>\n",
       "      <th>3</th>\n",
       "      <td>Pensioner</td>\n",
       "      <td>5.386366</td>\n",
       "    </tr>\n",
       "    <tr>\n",
       "      <th>5</th>\n",
       "      <td>Student</td>\n",
       "      <td>0.000000</td>\n",
       "    </tr>\n",
       "    <tr>\n",
       "      <th>6</th>\n",
       "      <td>Businessman</td>\n",
       "      <td>0.000000</td>\n",
       "    </tr>\n",
       "  </tbody>\n",
       "</table>\n",
       "</div>"
      ],
      "text/plain": [
       "                  Value  Percentage of Defaulter\n",
       "7       Maternity leave                40.000000\n",
       "4            Unemployed                36.363636\n",
       "0               Working                 9.588472\n",
       "2  Commercial associate                 7.484257\n",
       "1         State servant                 5.754965\n",
       "3             Pensioner                 5.386366\n",
       "5               Student                 0.000000\n",
       "6           Businessman                 0.000000"
      ]
     },
     "execution_count": 55,
     "metadata": {},
     "output_type": "execute_result"
    }
   ],
   "source": [
    "value_defaulter_percentage(df_curr_application2,'NAME_INCOME_TYPE')"
   ]
  },
  {
   "cell_type": "code",
   "execution_count": 56,
   "id": "f4615636",
   "metadata": {},
   "outputs": [
    {
     "data": {
      "text/plain": [
       "Working                 158774\n",
       "Commercial associate     71617\n",
       "Pensioner                55362\n",
       "State servant            21703\n",
       "Unemployed                  22\n",
       "Student                     18\n",
       "Businessman                 10\n",
       "Maternity leave              5\n",
       "Name: NAME_INCOME_TYPE, dtype: Int64"
      ]
     },
     "execution_count": 56,
     "metadata": {},
     "output_type": "execute_result"
    }
   ],
   "source": [
    "df_curr_application.NAME_INCOME_TYPE.value_counts()"
   ]
  },
  {
   "cell_type": "code",
   "execution_count": 57,
   "id": "360a6c25",
   "metadata": {},
   "outputs": [
    {
     "data": {
      "text/html": [
       "<div>\n",
       "<style scoped>\n",
       "    .dataframe tbody tr th:only-of-type {\n",
       "        vertical-align: middle;\n",
       "    }\n",
       "\n",
       "    .dataframe tbody tr th {\n",
       "        vertical-align: top;\n",
       "    }\n",
       "\n",
       "    .dataframe thead th {\n",
       "        text-align: right;\n",
       "    }\n",
       "</style>\n",
       "<table border=\"1\" class=\"dataframe\">\n",
       "  <thead>\n",
       "    <tr style=\"text-align: right;\">\n",
       "      <th></th>\n",
       "      <th>Value</th>\n",
       "      <th>Percentage of Defaulter</th>\n",
       "    </tr>\n",
       "  </thead>\n",
       "  <tbody>\n",
       "    <tr>\n",
       "      <th>3</th>\n",
       "      <td>Lower secondary</td>\n",
       "      <td>10.927673</td>\n",
       "    </tr>\n",
       "    <tr>\n",
       "      <th>0</th>\n",
       "      <td>Secondary / secondary special</td>\n",
       "      <td>8.939929</td>\n",
       "    </tr>\n",
       "    <tr>\n",
       "      <th>2</th>\n",
       "      <td>Incomplete higher</td>\n",
       "      <td>8.484966</td>\n",
       "    </tr>\n",
       "    <tr>\n",
       "      <th>1</th>\n",
       "      <td>Higher education</td>\n",
       "      <td>5.355115</td>\n",
       "    </tr>\n",
       "    <tr>\n",
       "      <th>4</th>\n",
       "      <td>Academic degree</td>\n",
       "      <td>1.829268</td>\n",
       "    </tr>\n",
       "  </tbody>\n",
       "</table>\n",
       "</div>"
      ],
      "text/plain": [
       "                           Value  Percentage of Defaulter\n",
       "3                Lower secondary                10.927673\n",
       "0  Secondary / secondary special                 8.939929\n",
       "2              Incomplete higher                 8.484966\n",
       "1               Higher education                 5.355115\n",
       "4                Academic degree                 1.829268"
      ]
     },
     "execution_count": 57,
     "metadata": {},
     "output_type": "execute_result"
    }
   ],
   "source": [
    "value_defaulter_percentage(df_curr_application2,'NAME_EDUCATION_TYPE')"
   ]
  },
  {
   "cell_type": "markdown",
   "id": "834a284d",
   "metadata": {},
   "source": [
    "We are replacing <b>NULL</b> values with <b>UNKNOWN</b> to simplify analysis."
   ]
  },
  {
   "cell_type": "code",
   "execution_count": 58,
   "id": "edf28d19",
   "metadata": {},
   "outputs": [],
   "source": [
    "df_curr_application3['OCCUPATION_TYPE'].isnull().sum()\n",
    "df_curr_application3['OCCUPATION_TYPE'].fillna(\"Unknown\", inplace=True)"
   ]
  },
  {
   "cell_type": "code",
   "execution_count": 59,
   "id": "5f0cd02d",
   "metadata": {},
   "outputs": [
    {
     "data": {
      "text/html": [
       "<div>\n",
       "<style scoped>\n",
       "    .dataframe tbody tr th:only-of-type {\n",
       "        vertical-align: middle;\n",
       "    }\n",
       "\n",
       "    .dataframe tbody tr th {\n",
       "        vertical-align: top;\n",
       "    }\n",
       "\n",
       "    .dataframe thead th {\n",
       "        text-align: right;\n",
       "    }\n",
       "</style>\n",
       "<table border=\"1\" class=\"dataframe\">\n",
       "  <thead>\n",
       "    <tr style=\"text-align: right;\">\n",
       "      <th></th>\n",
       "      <th>Value</th>\n",
       "      <th>Percentage of Defaulter</th>\n",
       "    </tr>\n",
       "  </thead>\n",
       "  <tbody>\n",
       "    <tr>\n",
       "      <th>14</th>\n",
       "      <td>Low-skill Laborers</td>\n",
       "      <td>17.152413</td>\n",
       "    </tr>\n",
       "    <tr>\n",
       "      <th>5</th>\n",
       "      <td>Drivers</td>\n",
       "      <td>11.326130</td>\n",
       "    </tr>\n",
       "    <tr>\n",
       "      <th>13</th>\n",
       "      <td>Waiters/barmen staff</td>\n",
       "      <td>11.275964</td>\n",
       "    </tr>\n",
       "    <tr>\n",
       "      <th>11</th>\n",
       "      <td>Security staff</td>\n",
       "      <td>10.742449</td>\n",
       "    </tr>\n",
       "    <tr>\n",
       "      <th>0</th>\n",
       "      <td>Laborers</td>\n",
       "      <td>10.578770</td>\n",
       "    </tr>\n",
       "    <tr>\n",
       "      <th>8</th>\n",
       "      <td>Cooking staff</td>\n",
       "      <td>10.443996</td>\n",
       "    </tr>\n",
       "    <tr>\n",
       "      <th>6</th>\n",
       "      <td>Sales staff</td>\n",
       "      <td>9.631799</td>\n",
       "    </tr>\n",
       "    <tr>\n",
       "      <th>7</th>\n",
       "      <td>Cleaning staff</td>\n",
       "      <td>9.606705</td>\n",
       "    </tr>\n",
       "    <tr>\n",
       "      <th>15</th>\n",
       "      <td>Realty agents</td>\n",
       "      <td>7.856192</td>\n",
       "    </tr>\n",
       "    <tr>\n",
       "      <th>16</th>\n",
       "      <td>Secretaries</td>\n",
       "      <td>7.049808</td>\n",
       "    </tr>\n",
       "    <tr>\n",
       "      <th>10</th>\n",
       "      <td>Medicine staff</td>\n",
       "      <td>6.700246</td>\n",
       "    </tr>\n",
       "    <tr>\n",
       "      <th>9</th>\n",
       "      <td>Private service staff</td>\n",
       "      <td>6.598793</td>\n",
       "    </tr>\n",
       "    <tr>\n",
       "      <th>4</th>\n",
       "      <td>Unknown</td>\n",
       "      <td>6.513056</td>\n",
       "    </tr>\n",
       "    <tr>\n",
       "      <th>17</th>\n",
       "      <td>IT staff</td>\n",
       "      <td>6.463878</td>\n",
       "    </tr>\n",
       "    <tr>\n",
       "      <th>18</th>\n",
       "      <td>HR staff</td>\n",
       "      <td>6.394316</td>\n",
       "    </tr>\n",
       "    <tr>\n",
       "      <th>1</th>\n",
       "      <td>Core staff</td>\n",
       "      <td>6.303954</td>\n",
       "    </tr>\n",
       "    <tr>\n",
       "      <th>3</th>\n",
       "      <td>Managers</td>\n",
       "      <td>6.214319</td>\n",
       "    </tr>\n",
       "    <tr>\n",
       "      <th>12</th>\n",
       "      <td>High skill tech staff</td>\n",
       "      <td>6.159930</td>\n",
       "    </tr>\n",
       "    <tr>\n",
       "      <th>2</th>\n",
       "      <td>Accountants</td>\n",
       "      <td>4.830819</td>\n",
       "    </tr>\n",
       "  </tbody>\n",
       "</table>\n",
       "</div>"
      ],
      "text/plain": [
       "                    Value  Percentage of Defaulter\n",
       "14     Low-skill Laborers                17.152413\n",
       "5                 Drivers                11.326130\n",
       "13   Waiters/barmen staff                11.275964\n",
       "11         Security staff                10.742449\n",
       "0                Laborers                10.578770\n",
       "8           Cooking staff                10.443996\n",
       "6             Sales staff                 9.631799\n",
       "7          Cleaning staff                 9.606705\n",
       "15          Realty agents                 7.856192\n",
       "16            Secretaries                 7.049808\n",
       "10         Medicine staff                 6.700246\n",
       "9   Private service staff                 6.598793\n",
       "4                 Unknown                 6.513056\n",
       "17               IT staff                 6.463878\n",
       "18               HR staff                 6.394316\n",
       "1              Core staff                 6.303954\n",
       "3                Managers                 6.214319\n",
       "12  High skill tech staff                 6.159930\n",
       "2             Accountants                 4.830819"
      ]
     },
     "execution_count": 59,
     "metadata": {},
     "output_type": "execute_result"
    }
   ],
   "source": [
    "value_defaulter_percentage(df_curr_application3, 'OCCUPATION_TYPE')"
   ]
  },
  {
   "cell_type": "markdown",
   "id": "69593874",
   "metadata": {},
   "source": []
  },
  {
   "cell_type": "code",
   "execution_count": 60,
   "id": "c2df2400",
   "metadata": {},
   "outputs": [
    {
     "data": {
      "image/png": "[encoded data removed]",
      "text/plain": [
       "<Figure size 864x432 with 2 Axes>"
      ]
     },
     "metadata": {},
     "output_type": "display_data"
    }
   ],
   "source": [
    "fig = plt.figure(figsize=(12,6))\n",
    "axis1 = fig.add_subplot(1, 2, 1, ylim=(0,250000), title=\"Document-3 Submission Done\")\n",
    "axis2 = fig.add_subplot(1, 2, 2, ylim=(0,250000), title=\"Document-3 Submission Not Done\")\n",
    "sns.countplot(df_curr_application[df_curr_application[\"FLAG_DOCUMENT_3\"] == 0][\"TARGET\"], ax=axis1, palette=['#00ff00',\"#ff0000\"])\n",
    "sns.countplot(df_curr_application[df_curr_application[\"FLAG_DOCUMENT_3\"] == 1][\"TARGET\"], ax=axis2, palette=['#00ff00',\"#ff0000\"])\n",
    "plt.tight_layout()\n",
    "plt.show()"
   ]
  }
 ],
 "metadata": {
  "kernelspec": {
   "display_name": "Python 3 (ipykernel)",
   "language": "python",
   "name": "python3"
  },
  "language_info": {
   "codemirror_mode": {
    "name": "ipython",
    "version": 3
   },
   "file_extension": ".py",
   "mimetype": "text/x-python",
   "name": "python",
   "nbconvert_exporter": "python",
   "pygments_lexer": "ipython3",
   "version": "3.9.7"
  }
 },
 "nbformat": 4,
 "nbformat_minor": 5
}
